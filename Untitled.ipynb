{
 "cells": [
  {
   "cell_type": "code",
   "execution_count": 1,
   "metadata": {},
   "outputs": [],
   "source": [
    "import pandas as pd\n",
    "import numpy as np\n",
    "import matplotlib.pyplot as plt\n",
    "import os\n",
    "from datetime import datetime\n",
    "import scipy.stats as st\n",
    "from scipy.optimize import curve_fit"
   ]
  },
  {
   "cell_type": "code",
   "execution_count": 2,
   "metadata": {},
   "outputs": [],
   "source": [
    "path = \"../../COVID-19/csse_covid_19_data/csse_covid_19_daily_reports/\""
   ]
  },
  {
   "cell_type": "code",
   "execution_count": 3,
   "metadata": {},
   "outputs": [],
   "source": [
    "df = []\n",
    "for filename in os.listdir(path):\n",
    "    if filename.endswith(\".csv\"):\n",
    "        x = pd.read_csv(path + filename)\n",
    "        df.append(x)"
   ]
  },
  {
   "cell_type": "code",
   "execution_count": 4,
   "metadata": {},
   "outputs": [],
   "source": [
    "def is_col(x, word):\n",
    "    cols = x.columns.tolist()\n",
    "    col = [i for i in cols if word in i]\n",
    "    return col[0]"
   ]
  },
  {
   "cell_type": "code",
   "execution_count": 5,
   "metadata": {},
   "outputs": [],
   "source": [
    "us = [a[a[is_col(a, 'Country')] == 'US'] for a in df]"
   ]
  },
  {
   "cell_type": "code",
   "execution_count": 6,
   "metadata": {},
   "outputs": [],
   "source": [
    "def split(x):\n",
    "    if ' ' in x:\n",
    "        date = x.split(' ')[0]\n",
    "    elif 'T' in x:\n",
    "        y = x.split('T')[0]\n",
    "    return y"
   ]
  },
  {
   "cell_type": "code",
   "execution_count": 7,
   "metadata": {},
   "outputs": [],
   "source": [
    "def split2(x):\n",
    "    if 'T' in x:\n",
    "        x = x.replace('T', ' ')\n",
    "        \n",
    "    if x.count(\":\") == 2:\n",
    "        x = \":\".join(x.split(\":\", 2)[:2])\n",
    "    \n",
    "    return x"
   ]
  },
  {
   "cell_type": "code",
   "execution_count": 8,
   "metadata": {},
   "outputs": [],
   "source": [
    "def fix(x):\n",
    "    x = split2(x)\n",
    "    if '/' in x:\n",
    "        if '2020' in x:\n",
    "            y = datetime.strptime(x, '%m/%d/%Y %H:%M')\n",
    "        else:\n",
    "            y = datetime.strptime(x, '%m/%d/%y %H:%M')\n",
    "    elif '-' in x:\n",
    "        if '2020' in x:\n",
    "            y = datetime.strptime(x, '%Y-%m-%d %H:%M')\n",
    "        else:\n",
    "            y = datetime.strptime(x, '%y-%m-%d %H:%M')\n",
    "    return y"
   ]
  },
  {
   "cell_type": "code",
   "execution_count": 141,
   "metadata": {},
   "outputs": [],
   "source": [
    "def clean(state, abb):\n",
    "    x = [a[(a[is_col(a, 'State')] == state) | (a[is_col(a, 'State')].str.contains(abb))] for a in df]\n",
    "    x1 = [a.rename(columns={is_col(a, 'State'): \"State\", \n",
    "                            is_col(a, 'Country'): \"Country\", \n",
    "                            is_col(a, 'Update'): 'Date'}) for a in x]\n",
    "    s = pd.concat(x1, sort=True)\n",
    "    s['Date'] = s['Date'].apply(fix)\n",
    "    s1 = s.drop_duplicates(['State', 'Date', 'Combined_Key', 'Confirmed'])\n",
    "    s1['Date'] = s1.Date.apply(lambda x: x.date())\n",
    "    s2 = s1.groupby('Date').sum()\n",
    "    s2 = s2.reset_index()\n",
    "    s2['Days'] = (s2['Date'] - datetime.strptime('01/22/2020', '%m/%d/%Y').date())\n",
    "    s2['Days'] = s2['Days'].dt.days\n",
    "    s3 = s2[['Date', 'Confirmed', 'Deaths', 'Days']]\n",
    "    return s3"
   ]
  },
  {
   "cell_type": "code",
   "execution_count": 142,
   "metadata": {},
   "outputs": [],
   "source": [
    "def plot(df):\n",
    "    a, b = curve_fit(lambda x,a,b: a*np.exp(b*x),  df['Days'],  df['Deaths'], p0=(4, 0.1))[0]\n",
    "    w_eq = \"y = \" + str(round(a,2)) + \"exp(\" + str(round(b,2)) + 'x)'\n",
    "    w_fig = df.plot.scatter('Days', 'Deaths')\n",
    "    w_fig.plot(df['Days'], a * np.exp(b * df['Days']), 'r')\n",
    "    w_fig.annotate(w_eq,(40, 20),fontsize=14,color=\"red\")\n",
    "#     w_fig.annotate(\"Stay at Home Start\",(47, 80),fontsize=14,color=\"green\")\n",
    "#     w_fig.vlines(62, 0, 100, 'g')\n",
    "    w_fig.set_title(\"Florida COVID-19 Deaths over Time\")\n",
    "    w_fig.set_xlabel(\"Days Since First US Case\")\n",
    "    w_fig.set_ylabel(\"Total number of Deaths\")\n",
    "#     plt.savefig('deathFL.png')\n",
    "    return w_fig"
   ]
  },
  {
   "cell_type": "code",
   "execution_count": 145,
   "metadata": {},
   "outputs": [
    {
     "name": "stderr",
     "output_type": "stream",
     "text": [
      "/Users/sowmyasrinivasan/opt/anaconda3/lib/python3.7/site-packages/ipykernel_launcher.py:9: SettingWithCopyWarning: \n",
      "A value is trying to be set on a copy of a slice from a DataFrame.\n",
      "Try using .loc[row_indexer,col_indexer] = value instead\n",
      "\n",
      "See the caveats in the documentation: http://pandas.pydata.org/pandas-docs/stable/user_guide/indexing.html#returning-a-view-versus-a-copy\n",
      "  if __name__ == '__main__':\n"
     ]
    },
    {
     "data": {
      "text/plain": [
       "<matplotlib.axes._subplots.AxesSubplot at 0x1a2df49cd0>"
      ]
     },
     "execution_count": 145,
     "metadata": {},
     "output_type": "execute_result"
    },
    {
     "data": {
      "image/png": "[encoded data removed]",
      "text/plain": [
       "<Figure size 432x288 with 1 Axes>"
      ]
     },
     "metadata": {
      "needs_background": "light"
     },
     "output_type": "display_data"
    }
   ],
   "source": [
    "washington = clean('New York', 'NY')\n",
    "plot(washington)"
   ]
  },
  {
   "cell_type": "code",
   "execution_count": null,
   "metadata": {},
   "outputs": [],
   "source": []
  }
 ],
 "metadata": {
  "kernelspec": {
   "display_name": "Python 3",
   "language": "python",
   "name": "python3"
  },
  "language_info": {
   "codemirror_mode": {
    "name": "ipython",
    "version": 3
   },
   "file_extension": ".py",
   "mimetype": "text/x-python",
   "name": "python",
   "nbconvert_exporter": "python",
   "pygments_lexer": "ipython3",
   "version": "3.7.4"
  }
 },
 "nbformat": 4,
 "nbformat_minor": 2
}
