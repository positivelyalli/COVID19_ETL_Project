{
 "cells": [
  {
   "cell_type": "code",
   "execution_count": 71,
   "metadata": {},
   "outputs": [],
   "source": [
    "# Dependencies\n",
    "from bs4 import BeautifulSoup\n",
    "import requests\n",
    "import pymongo\n",
    "import pandas as pd\n",
    "import matplotlib.pyplot as plt\n",
    "import numpy as np\n",
    "from pandas import DataFrame\n",
    "from datetime import datetime\n",
    "import gmaps\n",
    "from scipy.stats import linregress"
   ]
  },
  {
   "cell_type": "code",
   "execution_count": 2,
   "metadata": {},
   "outputs": [],
   "source": [
    "# Initialize PyMongo to work with MongoDBs\n",
    "conn = 'mongodb://localhost:27017'\n",
    "client = pymongo.MongoClient(conn)"
   ]
  },
  {
   "cell_type": "code",
   "execution_count": 3,
   "metadata": {},
   "outputs": [],
   "source": [
    "# Define database and collection\n",
    "db = client.stayathome_db\n",
    "collection = db.state_quarantine"
   ]
  },
  {
   "cell_type": "code",
   "execution_count": 4,
   "metadata": {},
   "outputs": [
    {
     "name": "stdout",
     "output_type": "stream",
     "text": [
      "{'_id': ObjectId('5e7fb2005ce6cf72a85ffc22'), 'key': 'value'}\n"
     ]
    },
    {
     "data": {
      "text/plain": [
       "<pymongo.results.InsertOneResult at 0x1928fda7cc8>"
      ]
     },
     "execution_count": 4,
     "metadata": {},
     "output_type": "execute_result"
    }
   ],
   "source": [
    "print(db.state_orders.find_one())\n",
    "db.state_orders.insert_one({'key': 'value'})"
   ]
  },
  {
   "cell_type": "code",
   "execution_count": 5,
   "metadata": {},
   "outputs": [],
   "source": [
    "# URL of page to be scraped\n",
    "url = 'https://www.nytimes.com/interactive/2020/us/coronavirus-stay-at-home-order.html'\n",
    "\n",
    "# Retrieve page with the requests module\n",
    "response = requests.get(url)\n",
    "\n",
    "# Create BeautifulSoup object; parse with 'lxml'\n",
    "soup = BeautifulSoup(response.text, 'html.parser')"
   ]
  },
  {
   "cell_type": "code",
   "execution_count": 6,
   "metadata": {
    "scrolled": true
   },
   "outputs": [],
   "source": [
    "# print(soup.find_all('div', class_='state-wrap'))"
   ]
  },
  {
   "cell_type": "code",
   "execution_count": 7,
   "metadata": {},
   "outputs": [
    {
     "name": "stdout",
     "output_type": "stream",
     "text": [
      "California About 39.6 million people\n",
      "Stay at home, effective March 19\n"
     ]
    }
   ],
   "source": [
    "ca_measures_state = soup.find('div', id='item-CA').find('h3').text\n",
    "ca_measures_order = soup.find('div', id='item-CA').find('p', class_='l-order').text\n",
    "\n",
    "print(ca_measures_state)\n",
    "print(ca_measures_order)"
   ]
  },
  {
   "cell_type": "code",
   "execution_count": 8,
   "metadata": {
    "scrolled": false
   },
   "outputs": [],
   "source": [
    "# soup.find_all('div', class_=\"state-wrap\")\n",
    "# soup.find_all('div', class_=\"state-wrap\")"
   ]
  },
  {
   "cell_type": "code",
   "execution_count": 9,
   "metadata": {},
   "outputs": [
    {
     "name": "stdout",
     "output_type": "stream",
     "text": [
      "-----------------\n",
      "Alabama\n",
      "Shelter in place, effective March 24 at 12 p.m.\n",
      ", effective March 24 at 12 p.m.\n",
      "-----------------\n",
      "Alaska About 737,000 people\n",
      "Stay at home, effective March 28 at 5 p.m.\n",
      ", effective March 28 at 5 p.m.\n",
      "-----------------\n",
      "Arizona About 7.2 million people\n",
      "Stay at home, effective March 31 at 5 p.m.\n",
      ", effective March 31 at 5 p.m.\n",
      "-----------------\n",
      "California About 39.6 million people\n",
      "Stay at home, effective March 19\n",
      ", effective March 19\n",
      "-----------------\n",
      "Colorado About 5.7 million people\n",
      "Stay at home, effective March 26 at 6 a.m.\n",
      ", effective March 26 at 6 a.m.\n",
      "-----------------\n",
      "Connecticut About 3.6 million people\n",
      "Stay at home, effective March 23 at 8 p.m.\n",
      ", effective March 23 at 8 p.m.\n",
      "-----------------\n",
      "Delaware About 973,000 people\n",
      "Shelter in place, effective March 24 at 8 a.m.\n",
      ", effective March 24 at 8 a.m.\n",
      "-----------------\n",
      "District of Columbia About 702,000 people\n",
      "Stay at home, effective April 1 at 12:01 a.m.\n",
      ", effective April 1 at 12:01 a.m.\n",
      "-----------------\n",
      "Florida\n",
      "Stay at home, effective March 24 at 12:01 a.m.\n",
      ", effective March 24 at 12:01 a.m.\n",
      "-----------------\n",
      "Georgia\n",
      "Stay at home, effective March 24 at 12 a.m.\n",
      ", effective March 24 at 12 a.m.\n",
      "-----------------\n",
      "Hawaii About 1.4 million people\n",
      "Stay at home, effective March 25 at 12:01 a.m.\n",
      ", effective March 25 at 12:01 a.m.\n",
      "-----------------\n",
      "Idaho About 1.8 million people\n",
      "Stay at home, effective March 25\n",
      ", effective March 25\n",
      "-----------------\n",
      "Illinois About 12.7 million people\n",
      "Stay at home, effective March 21 at 5 p.m.\n",
      ", effective March 21 at 5 p.m.\n",
      "-----------------\n",
      "Indiana About 6.7 million people\n",
      "Stay at home, effective March 24 at 11:59 p.m.\n",
      ", effective March 24 at 11:59 p.m.\n",
      "-----------------\n",
      "Kansas About 2.9 million people\n",
      "Stay at home, effective March 30 at 12:01 a.m.\n",
      ", effective March 30 at 12:01 a.m.\n",
      "-----------------\n",
      "Kentucky About 4.5 million people\n",
      "Healthy at home, effective March 26 at 8 p.m.\n",
      ", effective March 26 at 8 p.m.\n",
      "-----------------\n",
      "Louisiana About 4.6 million people\n",
      "Stay at home, effective March 23 at 5 p.m.\n",
      ", effective March 23 at 5 p.m.\n",
      "-----------------\n",
      "Maine\n",
      "Stay at home, effective March 25 at 5 p.m.\n",
      ", effective March 25 at 5 p.m.\n",
      "-----------------\n",
      "Maryland About 6 million people\n",
      "Stay at home, effective March 30 at 8 p.m.\n",
      ", effective March 30 at 8 p.m.\n",
      "-----------------\n",
      "Massachusetts About 6.9 million people\n",
      "Stay at home advisory, effective March 24 at 12 p.m.\n",
      ", effective March 24 at 12 p.m.\n",
      "-----------------\n",
      "Michigan About 10 million people\n",
      "Stay at home, effective March 24 at 12:01 a.m.\n",
      ", effective March 24 at 12:01 a.m.\n",
      "-----------------\n",
      "Minnesota About 5.6 million people\n",
      "Stay at home, effective March 27 at 11:59 p.m.\n",
      ", effective March 27 at 11:59 p.m.\n",
      "-----------------\n",
      "Mississippi\n",
      "Stay at home, effective March 22\n",
      ", effective March 22\n",
      "-----------------\n",
      "Missouri\n",
      "Stay at home, effective March 24 at 12:01 a.m.\n",
      ", effective March 24 at 12:01 a.m.\n",
      "-----------------\n",
      "Montana About 1.1 million people\n",
      "Stay at home, effective March 28 at 12:01 a.m.\n",
      ", effective March 28 at 12:01 a.m.\n",
      "-----------------\n",
      "New Hampshire About 1.4 million people\n",
      "Stay at home, effective March 27 at 11:59 p.m.\n",
      ", effective March 27 at 11:59 p.m.\n",
      "-----------------\n",
      "New Jersey About 8.9 million people\n",
      "Stay at home, effective March 21 at 9 p.m.\n",
      ", effective March 21 at 9 p.m.\n",
      "-----------------\n",
      "New Mexico About 2.1 million people\n",
      "Stay at home, effective March 24 at 8 a.m.\n",
      ", effective March 24 at 8 a.m.\n",
      "-----------------\n",
      "New York About 19.5 million people\n",
      "Stay at home, effective March 22 at 8 p.m.\n",
      ", effective March 22 at 8 p.m.\n",
      "-----------------\n",
      "North Carolina About 10.4 million people\n",
      "Stay at home, effective March 30 at 5 p.m.\n",
      ", effective March 30 at 5 p.m.\n",
      "-----------------\n",
      "Ohio About 11.7 million people\n",
      "Stay at home, effective March 23 at 11:59 pm.\n",
      ", effective March 23 at 11:59 pm.\n",
      "-----------------\n",
      "Oklahoma\n",
      "Stay at home, effective March 25 at 11:59 p.m.\n",
      ", effective March 25 at 11:59 p.m.\n",
      "-----------------\n",
      "Oregon About 4.2 million people\n",
      "Stay at home, effective March 23\n",
      ", effective March 23\n",
      "-----------------\n",
      "Pennsylvania\n",
      "Stay at home, effective March 23 at 8 p.m.\n",
      ", effective March 23 at 8 p.m.\n",
      "-----------------\n",
      "Puerto Rico About 3.2 million people\n",
      "Curfew, effective March 15 at 6 p.m.\n",
      ", effective March 15 at 6 p.m.\n",
      "-----------------\n",
      "Rhode Island About 1.1 million people\n",
      "Stay at home, effective March 28\n",
      ", effective March 28\n",
      "-----------------\n",
      "South Carolina\n",
      "Stay at home, effective March 26 at 12:01 a.m.\n",
      ", effective March 26 at 12:01 a.m.\n",
      "-----------------\n",
      "Tennessee\n",
      "Stay at home, effective March 25 at 12:01 a.m.\n",
      ", effective March 25 at 12:01 a.m.\n",
      "-----------------\n",
      "Texas\n",
      "Stay at home, effective March 30 at 11:59 p.m.\n",
      ", effective March 30 at 11:59 p.m.\n",
      "-----------------\n",
      "Utah\n",
      "Stay at home, effective March 30 at 12:01 a.m.\n",
      ", effective March 30 at 12:01 a.m.\n",
      "-----------------\n",
      "Vermont About 626,000 people\n",
      "Stay at home, effective March 25 at 5 p.m.\n",
      ", effective March 25 at 5 p.m.\n",
      "-----------------\n",
      "Virginia About 8.5 million people\n",
      "Stay at home, effective March 30\n",
      ", effective March 30\n",
      "-----------------\n",
      "Washington About 7.5 million people\n",
      "Stay at home, effective March 23\n",
      ", effective March 23\n",
      "-----------------\n",
      "West Virginia About 1.8 million people\n",
      "Stay at home, effective March 24 at 8 p.m.\n",
      ", effective March 24 at 8 p.m.\n",
      "-----------------\n",
      "Wisconsin About 5.8 million people\n",
      "Stay at home, effective March 25 at 8 a.m.\n",
      ", effective March 25 at 8 a.m.\n",
      "-----------------\n",
      "Wyoming\n",
      "Stay at home, effective March 28\n",
      ", effective March 28\n"
     ]
    }
   ],
   "source": [
    "# # Retrieve the parent divs for all states\n",
    "sah_measures = soup.find_all('div', class_=\"state-wrap\")\n",
    "\n",
    "\n",
    "# loop over results to get article data\n",
    "for each_measure in sah_measures:\n",
    "    # scrape the article header     \n",
    "    state = each_measure.find('h3').text\n",
    "    \n",
    "    # scrape the article subheader\n",
    "    sah_order = each_measure.find('p', class_='l-order').text\n",
    "    \n",
    "    # scrape the datetime\n",
    "    effective_date = each_measure.find('span', class_='l-date').text\n",
    "    \n",
    "    # print article data\n",
    "    print('-----------------')\n",
    "    print(state)\n",
    "    print(sah_order)\n",
    "    print(effective_date)\n",
    "\n",
    "    # Dictionary to be inserted into MongoDB\n",
    "    state_measures = {\n",
    "        'state': state,\n",
    "        'sah_order': sah_order,\n",
    "        'effective_date': effective_date,\n",
    "    }\n",
    "    \n",
    "    \n",
    "\n",
    "    # Insert dictionary into MongoDB as a document\n",
    "    collection.insert_one(state_measures)"
   ]
  },
  {
   "cell_type": "code",
   "execution_count": 10,
   "metadata": {},
   "outputs": [
    {
     "data": {
      "text/plain": [
       "{'state': 'Wyoming',\n",
       " 'sah_order': 'Stay at home, effective March 28',\n",
       " 'effective_date': ', effective March 28',\n",
       " '_id': ObjectId('5e82b9f0ffbb84fb4678249c')}"
      ]
     },
     "execution_count": 10,
     "metadata": {},
     "output_type": "execute_result"
    }
   ],
   "source": [
    "top_six = ['New York','New Jersey','California','Washington','Michigan','Florida']\n",
    "state_measures"
   ]
  },
  {
   "cell_type": "code",
   "execution_count": 11,
   "metadata": {},
   "outputs": [],
   "source": [
    "# state_measures_df = DataFrame(list(state_measures.items()), columns = ['state','sah_order','effective_date'])\n",
    "state_measures_df = DataFrame(list(db.state_quarantine.find({})))"
   ]
  },
  {
   "cell_type": "code",
   "execution_count": 12,
   "metadata": {},
   "outputs": [
    {
     "data": {
      "text/html": [
       "<div>\n",
       "<style scoped>\n",
       "    .dataframe tbody tr th:only-of-type {\n",
       "        vertical-align: middle;\n",
       "    }\n",
       "\n",
       "    .dataframe tbody tr th {\n",
       "        vertical-align: top;\n",
       "    }\n",
       "\n",
       "    .dataframe thead th {\n",
       "        text-align: right;\n",
       "    }\n",
       "</style>\n",
       "<table border=\"1\" class=\"dataframe\">\n",
       "  <thead>\n",
       "    <tr style=\"text-align: right;\">\n",
       "      <th></th>\n",
       "      <th>state</th>\n",
       "      <th>sah_order</th>\n",
       "    </tr>\n",
       "  </thead>\n",
       "  <tbody>\n",
       "    <tr>\n",
       "      <td>0</td>\n",
       "      <td>Missouri</td>\n",
       "      <td>Stay at home, effective March 24 at 12:01 a.m.</td>\n",
       "    </tr>\n",
       "    <tr>\n",
       "      <td>1</td>\n",
       "      <td>Montana About 1.1 million people</td>\n",
       "      <td>Stay at home, effective March 28 at 12:01 a.m.</td>\n",
       "    </tr>\n",
       "    <tr>\n",
       "      <td>2</td>\n",
       "      <td>New Hampshire About 1.4 million people</td>\n",
       "      <td>Stay at home, effective March 27 at 11:59 p.m.</td>\n",
       "    </tr>\n",
       "    <tr>\n",
       "      <td>3</td>\n",
       "      <td>New Jersey About 8.9 million people</td>\n",
       "      <td>Stay at home, effective March 21 at 9 p.m.</td>\n",
       "    </tr>\n",
       "    <tr>\n",
       "      <td>4</td>\n",
       "      <td>New Mexico About 2.1 million people</td>\n",
       "      <td>Stay at home, effective March 24 at 8 a.m.</td>\n",
       "    </tr>\n",
       "    <tr>\n",
       "      <td>...</td>\n",
       "      <td>...</td>\n",
       "      <td>...</td>\n",
       "    </tr>\n",
       "    <tr>\n",
       "      <td>181</td>\n",
       "      <td>Virginia About 8.5 million people</td>\n",
       "      <td>Stay at home, effective March 30</td>\n",
       "    </tr>\n",
       "    <tr>\n",
       "      <td>182</td>\n",
       "      <td>Washington About 7.5 million people</td>\n",
       "      <td>Stay at home, effective March 23</td>\n",
       "    </tr>\n",
       "    <tr>\n",
       "      <td>183</td>\n",
       "      <td>West Virginia About 1.8 million people</td>\n",
       "      <td>Stay at home, effective March 24 at 8 p.m.</td>\n",
       "    </tr>\n",
       "    <tr>\n",
       "      <td>184</td>\n",
       "      <td>Wisconsin About 5.8 million people</td>\n",
       "      <td>Stay at home, effective March 25 at 8 a.m.</td>\n",
       "    </tr>\n",
       "    <tr>\n",
       "      <td>185</td>\n",
       "      <td>Wyoming</td>\n",
       "      <td>Stay at home, effective March 28</td>\n",
       "    </tr>\n",
       "  </tbody>\n",
       "</table>\n",
       "<p>186 rows × 2 columns</p>\n",
       "</div>"
      ],
      "text/plain": [
       "                                      state  \\\n",
       "0                                  Missouri   \n",
       "1          Montana About 1.1 million people   \n",
       "2    New Hampshire About 1.4 million people   \n",
       "3       New Jersey About 8.9 million people   \n",
       "4       New Mexico About 2.1 million people   \n",
       "..                                      ...   \n",
       "181       Virginia About 8.5 million people   \n",
       "182     Washington About 7.5 million people   \n",
       "183  West Virginia About 1.8 million people   \n",
       "184      Wisconsin About 5.8 million people   \n",
       "185                                 Wyoming   \n",
       "\n",
       "                                          sah_order  \n",
       "0    Stay at home, effective March 24 at 12:01 a.m.  \n",
       "1    Stay at home, effective March 28 at 12:01 a.m.  \n",
       "2    Stay at home, effective March 27 at 11:59 p.m.  \n",
       "3        Stay at home, effective March 21 at 9 p.m.  \n",
       "4        Stay at home, effective March 24 at 8 a.m.  \n",
       "..                                              ...  \n",
       "181                Stay at home, effective March 30  \n",
       "182                Stay at home, effective March 23  \n",
       "183      Stay at home, effective March 24 at 8 p.m.  \n",
       "184      Stay at home, effective March 25 at 8 a.m.  \n",
       "185                Stay at home, effective March 28  \n",
       "\n",
       "[186 rows x 2 columns]"
      ]
     },
     "execution_count": 12,
     "metadata": {},
     "output_type": "execute_result"
    }
   ],
   "source": [
    "state_measures_df = state_measures_df[['state','sah_order']]\n",
    "state_measures_df"
   ]
  },
  {
   "cell_type": "code",
   "execution_count": 13,
   "metadata": {},
   "outputs": [
    {
     "data": {
      "text/html": [
       "<div>\n",
       "<style scoped>\n",
       "    .dataframe tbody tr th:only-of-type {\n",
       "        vertical-align: middle;\n",
       "    }\n",
       "\n",
       "    .dataframe tbody tr th {\n",
       "        vertical-align: top;\n",
       "    }\n",
       "\n",
       "    .dataframe thead th {\n",
       "        text-align: right;\n",
       "    }\n",
       "</style>\n",
       "<table border=\"1\" class=\"dataframe\">\n",
       "  <thead>\n",
       "    <tr style=\"text-align: right;\">\n",
       "      <th></th>\n",
       "      <th>state</th>\n",
       "      <th>sah_order</th>\n",
       "      <th>order</th>\n",
       "      <th>date</th>\n",
       "    </tr>\n",
       "  </thead>\n",
       "  <tbody>\n",
       "    <tr>\n",
       "      <td>0</td>\n",
       "      <td>Missouri</td>\n",
       "      <td>Stay at home, effective March 24 at 12:01 a.m.</td>\n",
       "      <td>Stay at home</td>\n",
       "      <td>March 24 at 12:01 a.m.</td>\n",
       "    </tr>\n",
       "    <tr>\n",
       "      <td>1</td>\n",
       "      <td>Montana About 1.1 million people</td>\n",
       "      <td>Stay at home, effective March 28 at 12:01 a.m.</td>\n",
       "      <td>Stay at home</td>\n",
       "      <td>March 28 at 12:01 a.m.</td>\n",
       "    </tr>\n",
       "  </tbody>\n",
       "</table>\n",
       "</div>"
      ],
      "text/plain": [
       "                              state  \\\n",
       "0                          Missouri   \n",
       "1  Montana About 1.1 million people   \n",
       "\n",
       "                                        sah_order         order  \\\n",
       "0  Stay at home, effective March 24 at 12:01 a.m.  Stay at home   \n",
       "1  Stay at home, effective March 28 at 12:01 a.m.  Stay at home   \n",
       "\n",
       "                     date  \n",
       "0  March 24 at 12:01 a.m.  \n",
       "1  March 28 at 12:01 a.m.  "
      ]
     },
     "execution_count": 13,
     "metadata": {},
     "output_type": "execute_result"
    }
   ],
   "source": [
    "state_measures_df[['order','date']] = state_measures_df.sah_order.str.split(', effective ', expand=True)\n",
    "\n",
    "state_measures_df.head(2)"
   ]
  },
  {
   "cell_type": "code",
   "execution_count": 14,
   "metadata": {},
   "outputs": [
    {
     "data": {
      "text/html": [
       "<div>\n",
       "<style scoped>\n",
       "    .dataframe tbody tr th:only-of-type {\n",
       "        vertical-align: middle;\n",
       "    }\n",
       "\n",
       "    .dataframe tbody tr th {\n",
       "        vertical-align: top;\n",
       "    }\n",
       "\n",
       "    .dataframe thead th {\n",
       "        text-align: right;\n",
       "    }\n",
       "</style>\n",
       "<table border=\"1\" class=\"dataframe\">\n",
       "  <thead>\n",
       "    <tr style=\"text-align: right;\">\n",
       "      <th></th>\n",
       "      <th>state</th>\n",
       "      <th>sah_order</th>\n",
       "      <th>order</th>\n",
       "      <th>date</th>\n",
       "      <th>State</th>\n",
       "      <th>Population</th>\n",
       "    </tr>\n",
       "  </thead>\n",
       "  <tbody>\n",
       "    <tr>\n",
       "      <td>0</td>\n",
       "      <td>Missouri</td>\n",
       "      <td>Stay at home, effective March 24 at 12:01 a.m.</td>\n",
       "      <td>Stay at home</td>\n",
       "      <td>March 24 at 12:01 a.m.</td>\n",
       "      <td>Missouri</td>\n",
       "      <td>None</td>\n",
       "    </tr>\n",
       "    <tr>\n",
       "      <td>1</td>\n",
       "      <td>Montana About 1.1 million people</td>\n",
       "      <td>Stay at home, effective March 28 at 12:01 a.m.</td>\n",
       "      <td>Stay at home</td>\n",
       "      <td>March 28 at 12:01 a.m.</td>\n",
       "      <td>Montana</td>\n",
       "      <td>1.1 million people</td>\n",
       "    </tr>\n",
       "  </tbody>\n",
       "</table>\n",
       "</div>"
      ],
      "text/plain": [
       "                              state  \\\n",
       "0                          Missouri   \n",
       "1  Montana About 1.1 million people   \n",
       "\n",
       "                                        sah_order         order  \\\n",
       "0  Stay at home, effective March 24 at 12:01 a.m.  Stay at home   \n",
       "1  Stay at home, effective March 28 at 12:01 a.m.  Stay at home   \n",
       "\n",
       "                     date     State          Population  \n",
       "0  March 24 at 12:01 a.m.  Missouri                None  \n",
       "1  March 28 at 12:01 a.m.   Montana  1.1 million people  "
      ]
     },
     "execution_count": 14,
     "metadata": {},
     "output_type": "execute_result"
    }
   ],
   "source": [
    "state_measures_df[['State','Population']] = state_measures_df.state.str.split(' About ', expand=True)\n",
    "\n",
    "state_measures_df.head(2)"
   ]
  },
  {
   "cell_type": "code",
   "execution_count": 15,
   "metadata": {},
   "outputs": [
    {
     "data": {
      "text/html": [
       "<div>\n",
       "<style scoped>\n",
       "    .dataframe tbody tr th:only-of-type {\n",
       "        vertical-align: middle;\n",
       "    }\n",
       "\n",
       "    .dataframe tbody tr th {\n",
       "        vertical-align: top;\n",
       "    }\n",
       "\n",
       "    .dataframe thead th {\n",
       "        text-align: right;\n",
       "    }\n",
       "</style>\n",
       "<table border=\"1\" class=\"dataframe\">\n",
       "  <thead>\n",
       "    <tr style=\"text-align: right;\">\n",
       "      <th></th>\n",
       "      <th>State</th>\n",
       "      <th>order</th>\n",
       "      <th>date</th>\n",
       "    </tr>\n",
       "  </thead>\n",
       "  <tbody>\n",
       "    <tr>\n",
       "      <td>0</td>\n",
       "      <td>Missouri</td>\n",
       "      <td>Stay at home</td>\n",
       "      <td>March 24 at 12:01 a.m.</td>\n",
       "    </tr>\n",
       "    <tr>\n",
       "      <td>1</td>\n",
       "      <td>Montana</td>\n",
       "      <td>Stay at home</td>\n",
       "      <td>March 28 at 12:01 a.m.</td>\n",
       "    </tr>\n",
       "    <tr>\n",
       "      <td>2</td>\n",
       "      <td>New Hampshire</td>\n",
       "      <td>Stay at home</td>\n",
       "      <td>March 27 at 11:59 p.m.</td>\n",
       "    </tr>\n",
       "  </tbody>\n",
       "</table>\n",
       "</div>"
      ],
      "text/plain": [
       "           State         order                    date\n",
       "0       Missouri  Stay at home  March 24 at 12:01 a.m.\n",
       "1        Montana  Stay at home  March 28 at 12:01 a.m.\n",
       "2  New Hampshire  Stay at home  March 27 at 11:59 p.m."
      ]
     },
     "execution_count": 15,
     "metadata": {},
     "output_type": "execute_result"
    }
   ],
   "source": [
    "top_six = ['New York','New Jersey','California','Washington','Michigan','Florida']\n",
    "state_measures_df = state_measures_df[['State','order','date']]\n",
    "state_measures_df.head(3)\n"
   ]
  },
  {
   "cell_type": "code",
   "execution_count": 16,
   "metadata": {},
   "outputs": [
    {
     "data": {
      "text/plain": [
       "'New Hampshire'"
      ]
     },
     "execution_count": 16,
     "metadata": {},
     "output_type": "execute_result"
    }
   ],
   "source": [
    "state_measures_df.iloc[2,0]"
   ]
  },
  {
   "cell_type": "code",
   "execution_count": 17,
   "metadata": {},
   "outputs": [
    {
     "data": {
      "text/html": [
       "<div>\n",
       "<style scoped>\n",
       "    .dataframe tbody tr th:only-of-type {\n",
       "        vertical-align: middle;\n",
       "    }\n",
       "\n",
       "    .dataframe tbody tr th {\n",
       "        vertical-align: top;\n",
       "    }\n",
       "\n",
       "    .dataframe thead th {\n",
       "        text-align: right;\n",
       "    }\n",
       "</style>\n",
       "<table border=\"1\" class=\"dataframe\">\n",
       "  <thead>\n",
       "    <tr style=\"text-align: right;\">\n",
       "      <th></th>\n",
       "      <th>State</th>\n",
       "      <th>order</th>\n",
       "      <th>date</th>\n",
       "    </tr>\n",
       "  </thead>\n",
       "  <tbody>\n",
       "    <tr>\n",
       "      <td>3</td>\n",
       "      <td>New Jersey</td>\n",
       "      <td>Stay at home</td>\n",
       "      <td>March 21 at 9 p.m.</td>\n",
       "    </tr>\n",
       "    <tr>\n",
       "      <td>5</td>\n",
       "      <td>New York</td>\n",
       "      <td>Stay at home</td>\n",
       "      <td>March 22 at 8 p.m.</td>\n",
       "    </tr>\n",
       "    <tr>\n",
       "      <td>17</td>\n",
       "      <td>Washington</td>\n",
       "      <td>Stay at home</td>\n",
       "      <td>March 23</td>\n",
       "    </tr>\n",
       "    <tr>\n",
       "      <td>22</td>\n",
       "      <td>California</td>\n",
       "      <td>Stay at home</td>\n",
       "      <td>March 19</td>\n",
       "    </tr>\n",
       "    <tr>\n",
       "      <td>26</td>\n",
       "      <td>Florida</td>\n",
       "      <td>Stay at home</td>\n",
       "      <td>March 24 at 12:01 a.m.</td>\n",
       "    </tr>\n",
       "    <tr>\n",
       "      <td>37</td>\n",
       "      <td>Michigan</td>\n",
       "      <td>Stay at home</td>\n",
       "      <td>March 24 at 12:01 a.m.</td>\n",
       "    </tr>\n",
       "  </tbody>\n",
       "</table>\n",
       "</div>"
      ],
      "text/plain": [
       "         State         order                    date\n",
       "3   New Jersey  Stay at home      March 21 at 9 p.m.\n",
       "5     New York  Stay at home      March 22 at 8 p.m.\n",
       "17  Washington  Stay at home                March 23\n",
       "22  California  Stay at home                March 19\n",
       "26     Florida  Stay at home  March 24 at 12:01 a.m.\n",
       "37    Michigan  Stay at home  March 24 at 12:01 a.m."
      ]
     },
     "execution_count": 17,
     "metadata": {},
     "output_type": "execute_result"
    }
   ],
   "source": [
    "top_six_df = state_measures_df[state_measures_df['State'].isin(top_six)]\n",
    "top_six_df1=top_six_df.iloc[:6]\n",
    "top_six_df1"
   ]
  },
  {
   "cell_type": "code",
   "execution_count": 18,
   "metadata": {},
   "outputs": [
    {
     "name": "stderr",
     "output_type": "stream",
     "text": [
      "C:\\Users\\positivelyalli\\Anaconda3\\lib\\site-packages\\ipykernel_launcher.py:4: DeprecationWarning: remove is deprecated. Use delete_one or delete_many instead.\n",
      "  after removing the cwd from sys.path.\n"
     ]
    },
    {
     "data": {
      "text/plain": [
       "{'n': 0, 'ok': 1.0}"
      ]
     },
     "execution_count": 18,
     "metadata": {},
     "output_type": "execute_result"
    }
   ],
   "source": [
    "# db.users.remove({})\n",
    "# collection.insert_one(state_measures)\n",
    "\n",
    "collection.db.state_quarantine.remove({})"
   ]
  },
  {
   "cell_type": "code",
   "execution_count": 19,
   "metadata": {},
   "outputs": [
    {
     "data": {
      "text/html": [
       "<div>\n",
       "<style scoped>\n",
       "    .dataframe tbody tr th:only-of-type {\n",
       "        vertical-align: middle;\n",
       "    }\n",
       "\n",
       "    .dataframe tbody tr th {\n",
       "        vertical-align: top;\n",
       "    }\n",
       "\n",
       "    .dataframe thead th {\n",
       "        text-align: right;\n",
       "    }\n",
       "</style>\n",
       "<table border=\"1\" class=\"dataframe\">\n",
       "  <thead>\n",
       "    <tr style=\"text-align: right;\">\n",
       "      <th></th>\n",
       "      <th>State</th>\n",
       "      <th>order</th>\n",
       "      <th>date</th>\n",
       "    </tr>\n",
       "  </thead>\n",
       "  <tbody>\n",
       "    <tr>\n",
       "      <td>3</td>\n",
       "      <td>New Jersey</td>\n",
       "      <td>Stay at home</td>\n",
       "      <td>March 21 at 9 p.m.</td>\n",
       "    </tr>\n",
       "    <tr>\n",
       "      <td>5</td>\n",
       "      <td>New York</td>\n",
       "      <td>Stay at home</td>\n",
       "      <td>March 22 at 8 p.m.</td>\n",
       "    </tr>\n",
       "    <tr>\n",
       "      <td>17</td>\n",
       "      <td>Washington</td>\n",
       "      <td>Stay at home</td>\n",
       "      <td>March 23</td>\n",
       "    </tr>\n",
       "    <tr>\n",
       "      <td>22</td>\n",
       "      <td>California</td>\n",
       "      <td>Stay at home</td>\n",
       "      <td>March 19</td>\n",
       "    </tr>\n",
       "    <tr>\n",
       "      <td>26</td>\n",
       "      <td>Florida</td>\n",
       "      <td>Stay at home</td>\n",
       "      <td>March 24 at 12:01 a.m.</td>\n",
       "    </tr>\n",
       "    <tr>\n",
       "      <td>37</td>\n",
       "      <td>Michigan</td>\n",
       "      <td>Stay at home</td>\n",
       "      <td>March 24 at 12:01 a.m.</td>\n",
       "    </tr>\n",
       "  </tbody>\n",
       "</table>\n",
       "</div>"
      ],
      "text/plain": [
       "         State         order                    date\n",
       "3   New Jersey  Stay at home      March 21 at 9 p.m.\n",
       "5     New York  Stay at home      March 22 at 8 p.m.\n",
       "17  Washington  Stay at home                March 23\n",
       "22  California  Stay at home                March 19\n",
       "26     Florida  Stay at home  March 24 at 12:01 a.m.\n",
       "37    Michigan  Stay at home  March 24 at 12:01 a.m."
      ]
     },
     "execution_count": 19,
     "metadata": {},
     "output_type": "execute_result"
    }
   ],
   "source": [
    "top_six_df = top_six_df1\n",
    "top_six_df"
   ]
  },
  {
   "cell_type": "code",
   "execution_count": 20,
   "metadata": {},
   "outputs": [
    {
     "data": {
      "text/html": [
       "<div>\n",
       "<style scoped>\n",
       "    .dataframe tbody tr th:only-of-type {\n",
       "        vertical-align: middle;\n",
       "    }\n",
       "\n",
       "    .dataframe tbody tr th {\n",
       "        vertical-align: top;\n",
       "    }\n",
       "\n",
       "    .dataframe thead th {\n",
       "        text-align: right;\n",
       "    }\n",
       "</style>\n",
       "<table border=\"1\" class=\"dataframe\">\n",
       "  <thead>\n",
       "    <tr style=\"text-align: right;\">\n",
       "      <th></th>\n",
       "      <th>order</th>\n",
       "      <th>date</th>\n",
       "    </tr>\n",
       "    <tr>\n",
       "      <th>State</th>\n",
       "      <th></th>\n",
       "      <th></th>\n",
       "    </tr>\n",
       "  </thead>\n",
       "  <tbody>\n",
       "    <tr>\n",
       "      <td>New Jersey</td>\n",
       "      <td>Stay at home</td>\n",
       "      <td>March 21 at 9 p.m.</td>\n",
       "    </tr>\n",
       "    <tr>\n",
       "      <td>New York</td>\n",
       "      <td>Stay at home</td>\n",
       "      <td>March 22 at 8 p.m.</td>\n",
       "    </tr>\n",
       "    <tr>\n",
       "      <td>Washington</td>\n",
       "      <td>Stay at home</td>\n",
       "      <td>March 23</td>\n",
       "    </tr>\n",
       "    <tr>\n",
       "      <td>California</td>\n",
       "      <td>Stay at home</td>\n",
       "      <td>March 19</td>\n",
       "    </tr>\n",
       "    <tr>\n",
       "      <td>Florida</td>\n",
       "      <td>Stay at home</td>\n",
       "      <td>March 24 at 12:01 a.m.</td>\n",
       "    </tr>\n",
       "    <tr>\n",
       "      <td>Michigan</td>\n",
       "      <td>Stay at home</td>\n",
       "      <td>March 24 at 12:01 a.m.</td>\n",
       "    </tr>\n",
       "  </tbody>\n",
       "</table>\n",
       "</div>"
      ],
      "text/plain": [
       "                   order                    date\n",
       "State                                           \n",
       "New Jersey  Stay at home      March 21 at 9 p.m.\n",
       "New York    Stay at home      March 22 at 8 p.m.\n",
       "Washington  Stay at home                March 23\n",
       "California  Stay at home                March 19\n",
       "Florida     Stay at home  March 24 at 12:01 a.m.\n",
       "Michigan    Stay at home  March 24 at 12:01 a.m."
      ]
     },
     "execution_count": 20,
     "metadata": {},
     "output_type": "execute_result"
    }
   ],
   "source": [
    "top_six_df.set_index('State', inplace=True)\n",
    "top_six_df"
   ]
  },
  {
   "cell_type": "code",
   "execution_count": 21,
   "metadata": {},
   "outputs": [],
   "source": [
    "top_six_df.to_csv('top_six.csv')"
   ]
  },
  {
   "cell_type": "code",
   "execution_count": null,
   "metadata": {},
   "outputs": [],
   "source": []
  },
  {
   "cell_type": "code",
   "execution_count": 22,
   "metadata": {},
   "outputs": [
    {
     "data": {
      "text/html": [
       "<div>\n",
       "<style scoped>\n",
       "    .dataframe tbody tr th:only-of-type {\n",
       "        vertical-align: middle;\n",
       "    }\n",
       "\n",
       "    .dataframe tbody tr th {\n",
       "        vertical-align: top;\n",
       "    }\n",
       "\n",
       "    .dataframe thead th {\n",
       "        text-align: right;\n",
       "    }\n",
       "</style>\n",
       "<table border=\"1\" class=\"dataframe\">\n",
       "  <thead>\n",
       "    <tr style=\"text-align: right;\">\n",
       "      <th></th>\n",
       "      <th>order</th>\n",
       "      <th>date</th>\n",
       "      <th>time</th>\n",
       "    </tr>\n",
       "    <tr>\n",
       "      <th>State</th>\n",
       "      <th></th>\n",
       "      <th></th>\n",
       "      <th></th>\n",
       "    </tr>\n",
       "  </thead>\n",
       "  <tbody>\n",
       "    <tr>\n",
       "      <td>New Jersey</td>\n",
       "      <td>Stay at home</td>\n",
       "      <td>March 21</td>\n",
       "      <td>9 p.m.</td>\n",
       "    </tr>\n",
       "    <tr>\n",
       "      <td>New York</td>\n",
       "      <td>Stay at home</td>\n",
       "      <td>March 22</td>\n",
       "      <td>8 p.m.</td>\n",
       "    </tr>\n",
       "    <tr>\n",
       "      <td>Washington</td>\n",
       "      <td>Stay at home</td>\n",
       "      <td>March 23</td>\n",
       "      <td>None</td>\n",
       "    </tr>\n",
       "    <tr>\n",
       "      <td>California</td>\n",
       "      <td>Stay at home</td>\n",
       "      <td>March 19</td>\n",
       "      <td>None</td>\n",
       "    </tr>\n",
       "    <tr>\n",
       "      <td>Florida</td>\n",
       "      <td>Stay at home</td>\n",
       "      <td>March 24</td>\n",
       "      <td>12:01 a.m.</td>\n",
       "    </tr>\n",
       "    <tr>\n",
       "      <td>Michigan</td>\n",
       "      <td>Stay at home</td>\n",
       "      <td>March 24</td>\n",
       "      <td>12:01 a.m.</td>\n",
       "    </tr>\n",
       "  </tbody>\n",
       "</table>\n",
       "</div>"
      ],
      "text/plain": [
       "                   order      date        time\n",
       "State                                         \n",
       "New Jersey  Stay at home  March 21      9 p.m.\n",
       "New York    Stay at home  March 22      8 p.m.\n",
       "Washington  Stay at home  March 23        None\n",
       "California  Stay at home  March 19        None\n",
       "Florida     Stay at home  March 24  12:01 a.m.\n",
       "Michigan    Stay at home  March 24  12:01 a.m."
      ]
     },
     "execution_count": 22,
     "metadata": {},
     "output_type": "execute_result"
    }
   ],
   "source": [
    "top_six_df[['date','time']] = top_six_df.date.str.split(' at ', expand=True)\n",
    "top_six_df\n"
   ]
  },
  {
   "cell_type": "code",
   "execution_count": 23,
   "metadata": {},
   "outputs": [
    {
     "data": {
      "text/html": [
       "<div>\n",
       "<style scoped>\n",
       "    .dataframe tbody tr th:only-of-type {\n",
       "        vertical-align: middle;\n",
       "    }\n",
       "\n",
       "    .dataframe tbody tr th {\n",
       "        vertical-align: top;\n",
       "    }\n",
       "\n",
       "    .dataframe thead th {\n",
       "        text-align: right;\n",
       "    }\n",
       "</style>\n",
       "<table border=\"1\" class=\"dataframe\">\n",
       "  <thead>\n",
       "    <tr style=\"text-align: right;\">\n",
       "      <th></th>\n",
       "      <th>order</th>\n",
       "      <th>date</th>\n",
       "    </tr>\n",
       "    <tr>\n",
       "      <th>State</th>\n",
       "      <th></th>\n",
       "      <th></th>\n",
       "    </tr>\n",
       "  </thead>\n",
       "  <tbody>\n",
       "    <tr>\n",
       "      <td>New Jersey</td>\n",
       "      <td>Stay at home</td>\n",
       "      <td>March 21</td>\n",
       "    </tr>\n",
       "    <tr>\n",
       "      <td>New York</td>\n",
       "      <td>Stay at home</td>\n",
       "      <td>March 22</td>\n",
       "    </tr>\n",
       "    <tr>\n",
       "      <td>Washington</td>\n",
       "      <td>Stay at home</td>\n",
       "      <td>March 23</td>\n",
       "    </tr>\n",
       "    <tr>\n",
       "      <td>California</td>\n",
       "      <td>Stay at home</td>\n",
       "      <td>March 19</td>\n",
       "    </tr>\n",
       "    <tr>\n",
       "      <td>Florida</td>\n",
       "      <td>Stay at home</td>\n",
       "      <td>March 24</td>\n",
       "    </tr>\n",
       "    <tr>\n",
       "      <td>Michigan</td>\n",
       "      <td>Stay at home</td>\n",
       "      <td>March 24</td>\n",
       "    </tr>\n",
       "  </tbody>\n",
       "</table>\n",
       "</div>"
      ],
      "text/plain": [
       "                   order      date\n",
       "State                             \n",
       "New Jersey  Stay at home  March 21\n",
       "New York    Stay at home  March 22\n",
       "Washington  Stay at home  March 23\n",
       "California  Stay at home  March 19\n",
       "Florida     Stay at home  March 24\n",
       "Michigan    Stay at home  March 24"
      ]
     },
     "execution_count": 23,
     "metadata": {},
     "output_type": "execute_result"
    }
   ],
   "source": [
    "top_six_df = top_six_df[['order','date']]\n",
    "top_six_df\n"
   ]
  },
  {
   "cell_type": "code",
   "execution_count": 24,
   "metadata": {},
   "outputs": [
    {
     "data": {
      "text/plain": [
       "datetime.datetime(2020, 3, 21, 0, 0)"
      ]
     },
     "execution_count": 24,
     "metadata": {},
     "output_type": "execute_result"
    }
   ],
   "source": [
    "datetime.strptime('March 21 2020', '%B %d %Y')"
   ]
  },
  {
   "cell_type": "code",
   "execution_count": 25,
   "metadata": {},
   "outputs": [
    {
     "name": "stderr",
     "output_type": "stream",
     "text": [
      "C:\\Users\\positivelyalli\\Anaconda3\\lib\\site-packages\\ipykernel_launcher.py:1: SettingWithCopyWarning: \n",
      "A value is trying to be set on a copy of a slice from a DataFrame.\n",
      "Try using .loc[row_indexer,col_indexer] = value instead\n",
      "\n",
      "See the caveats in the documentation: http://pandas.pydata.org/pandas-docs/stable/user_guide/indexing.html#returning-a-view-versus-a-copy\n",
      "  \"\"\"Entry point for launching an IPython kernel.\n"
     ]
    }
   ],
   "source": [
    "top_six_df['date'] = top_six_df['date'] + ' 2020'"
   ]
  },
  {
   "cell_type": "code",
   "execution_count": 26,
   "metadata": {},
   "outputs": [
    {
     "name": "stderr",
     "output_type": "stream",
     "text": [
      "C:\\Users\\positivelyalli\\Anaconda3\\lib\\site-packages\\ipykernel_launcher.py:1: SettingWithCopyWarning: \n",
      "A value is trying to be set on a copy of a slice from a DataFrame.\n",
      "Try using .loc[row_indexer,col_indexer] = value instead\n",
      "\n",
      "See the caveats in the documentation: http://pandas.pydata.org/pandas-docs/stable/user_guide/indexing.html#returning-a-view-versus-a-copy\n",
      "  \"\"\"Entry point for launching an IPython kernel.\n"
     ]
    }
   ],
   "source": [
    "top_six_df['date'] = pd.to_datetime(top_six_df.date, format='%B %d %Y')\n"
   ]
  },
  {
   "cell_type": "code",
   "execution_count": 27,
   "metadata": {},
   "outputs": [],
   "source": [
    "top_six_df.to_csv('top_six.csv')"
   ]
  },
  {
   "cell_type": "markdown",
   "metadata": {},
   "source": [
    "Plot size bubbles for deaths by state"
   ]
  },
  {
   "cell_type": "code",
   "execution_count": 28,
   "metadata": {},
   "outputs": [
    {
     "data": {
      "text/html": [
       "<div>\n",
       "<style scoped>\n",
       "    .dataframe tbody tr th:only-of-type {\n",
       "        vertical-align: middle;\n",
       "    }\n",
       "\n",
       "    .dataframe tbody tr th {\n",
       "        vertical-align: top;\n",
       "    }\n",
       "\n",
       "    .dataframe thead th {\n",
       "        text-align: right;\n",
       "    }\n",
       "</style>\n",
       "<table border=\"1\" class=\"dataframe\">\n",
       "  <thead>\n",
       "    <tr style=\"text-align: right;\">\n",
       "      <th></th>\n",
       "      <th>State</th>\n",
       "      <th>Cases</th>\n",
       "      <th>Deaths</th>\n",
       "    </tr>\n",
       "  </thead>\n",
       "  <tbody>\n",
       "    <tr>\n",
       "      <td>0</td>\n",
       "      <td>New York</td>\n",
       "      <td>59513</td>\n",
       "      <td>965</td>\n",
       "    </tr>\n",
       "    <tr>\n",
       "      <td>1</td>\n",
       "      <td>New Jersey</td>\n",
       "      <td>13386</td>\n",
       "      <td>161</td>\n",
       "    </tr>\n",
       "    <tr>\n",
       "      <td>2</td>\n",
       "      <td>California</td>\n",
       "      <td>5735</td>\n",
       "      <td>124</td>\n",
       "    </tr>\n",
       "    <tr>\n",
       "      <td>3</td>\n",
       "      <td>Michigan</td>\n",
       "      <td>4635</td>\n",
       "      <td>112</td>\n",
       "    </tr>\n",
       "    <tr>\n",
       "      <td>4</td>\n",
       "      <td>Washington</td>\n",
       "      <td>4319</td>\n",
       "      <td>191</td>\n",
       "    </tr>\n",
       "    <tr>\n",
       "      <td>5</td>\n",
       "      <td>Massachusetts</td>\n",
       "      <td>4257</td>\n",
       "      <td>44</td>\n",
       "    </tr>\n",
       "    <tr>\n",
       "      <td>6</td>\n",
       "      <td>Florida</td>\n",
       "      <td>4238</td>\n",
       "      <td>55</td>\n",
       "    </tr>\n",
       "    <tr>\n",
       "      <td>7</td>\n",
       "      <td>Illinois</td>\n",
       "      <td>3558</td>\n",
       "      <td>50</td>\n",
       "    </tr>\n",
       "    <tr>\n",
       "      <td>8</td>\n",
       "      <td>Louisiana</td>\n",
       "      <td>3540</td>\n",
       "      <td>152</td>\n",
       "    </tr>\n",
       "    <tr>\n",
       "      <td>9</td>\n",
       "      <td>Pennsylvania</td>\n",
       "      <td>3408</td>\n",
       "      <td>38</td>\n",
       "    </tr>\n",
       "  </tbody>\n",
       "</table>\n",
       "</div>"
      ],
      "text/plain": [
       "           State  Cases  Deaths\n",
       "0       New York  59513     965\n",
       "1     New Jersey  13386     161\n",
       "2     California   5735     124\n",
       "3       Michigan   4635     112\n",
       "4     Washington   4319     191\n",
       "5  Massachusetts   4257      44\n",
       "6        Florida   4238      55\n",
       "7       Illinois   3558      50\n",
       "8      Louisiana   3540     152\n",
       "9   Pennsylvania   3408      38"
      ]
     },
     "execution_count": 28,
     "metadata": {},
     "output_type": "execute_result"
    }
   ],
   "source": [
    "top_states_data = pd.read_csv('covid_top_states.csv')\n",
    "top_states_data\n"
   ]
  },
  {
   "cell_type": "code",
   "execution_count": 50,
   "metadata": {},
   "outputs": [
    {
     "data": {
      "text/plain": [
       "0    0.016215\n",
       "1    0.012027\n",
       "2    0.021622\n",
       "3    0.024164\n",
       "4    0.044223\n",
       "5    0.010336\n",
       "6    0.012978\n",
       "7    0.014053\n",
       "8    0.042938\n",
       "9    0.011150\n",
       "dtype: float64"
      ]
     },
     "execution_count": 50,
     "metadata": {},
     "output_type": "execute_result"
    }
   ],
   "source": [
    "deathpercase = (top_states_data['Deaths']/top_states_data['Cases'])\n",
    "deathpercase"
   ]
  },
  {
   "cell_type": "code",
   "execution_count": 56,
   "metadata": {},
   "outputs": [
    {
     "data": {
      "text/html": [
       "<style  type=\"text/css\" >\n",
       "</style><table id=\"T_0c11ffbe_7303_11ea_9352_5c80b6769507\" ><thead>    <tr>        <th class=\"blank level0\" ></th>        <th class=\"col_heading level0 col0\" >State</th>        <th class=\"col_heading level0 col1\" >Cases</th>        <th class=\"col_heading level0 col2\" >Deaths</th>        <th class=\"col_heading level0 col3\" >Mortality Rate</th>    </tr></thead><tbody>\n",
       "                <tr>\n",
       "                        <th id=\"T_0c11ffbe_7303_11ea_9352_5c80b6769507level0_row0\" class=\"row_heading level0 row0\" >0</th>\n",
       "                        <td id=\"T_0c11ffbe_7303_11ea_9352_5c80b6769507row0_col0\" class=\"data row0 col0\" >New York</td>\n",
       "                        <td id=\"T_0c11ffbe_7303_11ea_9352_5c80b6769507row0_col1\" class=\"data row0 col1\" >59513</td>\n",
       "                        <td id=\"T_0c11ffbe_7303_11ea_9352_5c80b6769507row0_col2\" class=\"data row0 col2\" >965</td>\n",
       "                        <td id=\"T_0c11ffbe_7303_11ea_9352_5c80b6769507row0_col3\" class=\"data row0 col3\" >1.62%</td>\n",
       "            </tr>\n",
       "            <tr>\n",
       "                        <th id=\"T_0c11ffbe_7303_11ea_9352_5c80b6769507level0_row1\" class=\"row_heading level0 row1\" >1</th>\n",
       "                        <td id=\"T_0c11ffbe_7303_11ea_9352_5c80b6769507row1_col0\" class=\"data row1 col0\" >New Jersey</td>\n",
       "                        <td id=\"T_0c11ffbe_7303_11ea_9352_5c80b6769507row1_col1\" class=\"data row1 col1\" >13386</td>\n",
       "                        <td id=\"T_0c11ffbe_7303_11ea_9352_5c80b6769507row1_col2\" class=\"data row1 col2\" >161</td>\n",
       "                        <td id=\"T_0c11ffbe_7303_11ea_9352_5c80b6769507row1_col3\" class=\"data row1 col3\" >1.20%</td>\n",
       "            </tr>\n",
       "            <tr>\n",
       "                        <th id=\"T_0c11ffbe_7303_11ea_9352_5c80b6769507level0_row2\" class=\"row_heading level0 row2\" >2</th>\n",
       "                        <td id=\"T_0c11ffbe_7303_11ea_9352_5c80b6769507row2_col0\" class=\"data row2 col0\" >California</td>\n",
       "                        <td id=\"T_0c11ffbe_7303_11ea_9352_5c80b6769507row2_col1\" class=\"data row2 col1\" >5735</td>\n",
       "                        <td id=\"T_0c11ffbe_7303_11ea_9352_5c80b6769507row2_col2\" class=\"data row2 col2\" >124</td>\n",
       "                        <td id=\"T_0c11ffbe_7303_11ea_9352_5c80b6769507row2_col3\" class=\"data row2 col3\" >2.16%</td>\n",
       "            </tr>\n",
       "            <tr>\n",
       "                        <th id=\"T_0c11ffbe_7303_11ea_9352_5c80b6769507level0_row3\" class=\"row_heading level0 row3\" >3</th>\n",
       "                        <td id=\"T_0c11ffbe_7303_11ea_9352_5c80b6769507row3_col0\" class=\"data row3 col0\" >Michigan</td>\n",
       "                        <td id=\"T_0c11ffbe_7303_11ea_9352_5c80b6769507row3_col1\" class=\"data row3 col1\" >4635</td>\n",
       "                        <td id=\"T_0c11ffbe_7303_11ea_9352_5c80b6769507row3_col2\" class=\"data row3 col2\" >112</td>\n",
       "                        <td id=\"T_0c11ffbe_7303_11ea_9352_5c80b6769507row3_col3\" class=\"data row3 col3\" >2.42%</td>\n",
       "            </tr>\n",
       "            <tr>\n",
       "                        <th id=\"T_0c11ffbe_7303_11ea_9352_5c80b6769507level0_row4\" class=\"row_heading level0 row4\" >4</th>\n",
       "                        <td id=\"T_0c11ffbe_7303_11ea_9352_5c80b6769507row4_col0\" class=\"data row4 col0\" >Washington</td>\n",
       "                        <td id=\"T_0c11ffbe_7303_11ea_9352_5c80b6769507row4_col1\" class=\"data row4 col1\" >4319</td>\n",
       "                        <td id=\"T_0c11ffbe_7303_11ea_9352_5c80b6769507row4_col2\" class=\"data row4 col2\" >191</td>\n",
       "                        <td id=\"T_0c11ffbe_7303_11ea_9352_5c80b6769507row4_col3\" class=\"data row4 col3\" >4.42%</td>\n",
       "            </tr>\n",
       "            <tr>\n",
       "                        <th id=\"T_0c11ffbe_7303_11ea_9352_5c80b6769507level0_row5\" class=\"row_heading level0 row5\" >5</th>\n",
       "                        <td id=\"T_0c11ffbe_7303_11ea_9352_5c80b6769507row5_col0\" class=\"data row5 col0\" >Massachusetts</td>\n",
       "                        <td id=\"T_0c11ffbe_7303_11ea_9352_5c80b6769507row5_col1\" class=\"data row5 col1\" >4257</td>\n",
       "                        <td id=\"T_0c11ffbe_7303_11ea_9352_5c80b6769507row5_col2\" class=\"data row5 col2\" >44</td>\n",
       "                        <td id=\"T_0c11ffbe_7303_11ea_9352_5c80b6769507row5_col3\" class=\"data row5 col3\" >1.03%</td>\n",
       "            </tr>\n",
       "            <tr>\n",
       "                        <th id=\"T_0c11ffbe_7303_11ea_9352_5c80b6769507level0_row6\" class=\"row_heading level0 row6\" >6</th>\n",
       "                        <td id=\"T_0c11ffbe_7303_11ea_9352_5c80b6769507row6_col0\" class=\"data row6 col0\" >Florida</td>\n",
       "                        <td id=\"T_0c11ffbe_7303_11ea_9352_5c80b6769507row6_col1\" class=\"data row6 col1\" >4238</td>\n",
       "                        <td id=\"T_0c11ffbe_7303_11ea_9352_5c80b6769507row6_col2\" class=\"data row6 col2\" >55</td>\n",
       "                        <td id=\"T_0c11ffbe_7303_11ea_9352_5c80b6769507row6_col3\" class=\"data row6 col3\" >1.30%</td>\n",
       "            </tr>\n",
       "            <tr>\n",
       "                        <th id=\"T_0c11ffbe_7303_11ea_9352_5c80b6769507level0_row7\" class=\"row_heading level0 row7\" >7</th>\n",
       "                        <td id=\"T_0c11ffbe_7303_11ea_9352_5c80b6769507row7_col0\" class=\"data row7 col0\" >Illinois</td>\n",
       "                        <td id=\"T_0c11ffbe_7303_11ea_9352_5c80b6769507row7_col1\" class=\"data row7 col1\" >3558</td>\n",
       "                        <td id=\"T_0c11ffbe_7303_11ea_9352_5c80b6769507row7_col2\" class=\"data row7 col2\" >50</td>\n",
       "                        <td id=\"T_0c11ffbe_7303_11ea_9352_5c80b6769507row7_col3\" class=\"data row7 col3\" >1.41%</td>\n",
       "            </tr>\n",
       "            <tr>\n",
       "                        <th id=\"T_0c11ffbe_7303_11ea_9352_5c80b6769507level0_row8\" class=\"row_heading level0 row8\" >8</th>\n",
       "                        <td id=\"T_0c11ffbe_7303_11ea_9352_5c80b6769507row8_col0\" class=\"data row8 col0\" >Louisiana</td>\n",
       "                        <td id=\"T_0c11ffbe_7303_11ea_9352_5c80b6769507row8_col1\" class=\"data row8 col1\" >3540</td>\n",
       "                        <td id=\"T_0c11ffbe_7303_11ea_9352_5c80b6769507row8_col2\" class=\"data row8 col2\" >152</td>\n",
       "                        <td id=\"T_0c11ffbe_7303_11ea_9352_5c80b6769507row8_col3\" class=\"data row8 col3\" >4.29%</td>\n",
       "            </tr>\n",
       "            <tr>\n",
       "                        <th id=\"T_0c11ffbe_7303_11ea_9352_5c80b6769507level0_row9\" class=\"row_heading level0 row9\" >9</th>\n",
       "                        <td id=\"T_0c11ffbe_7303_11ea_9352_5c80b6769507row9_col0\" class=\"data row9 col0\" >Pennsylvania</td>\n",
       "                        <td id=\"T_0c11ffbe_7303_11ea_9352_5c80b6769507row9_col1\" class=\"data row9 col1\" >3408</td>\n",
       "                        <td id=\"T_0c11ffbe_7303_11ea_9352_5c80b6769507row9_col2\" class=\"data row9 col2\" >38</td>\n",
       "                        <td id=\"T_0c11ffbe_7303_11ea_9352_5c80b6769507row9_col3\" class=\"data row9 col3\" >1.12%</td>\n",
       "            </tr>\n",
       "    </tbody></table>"
      ],
      "text/plain": [
       "<pandas.io.formats.style.Styler at 0x19291a3c488>"
      ]
     },
     "execution_count": 56,
     "metadata": {},
     "output_type": "execute_result"
    }
   ],
   "source": [
    "top_states_data2 = top_states_data\n",
    "\n",
    "top_states_data2['Mortality Rate'] =deathpercase\n",
    "\n",
    "# .format(\"{:.2%}\")\n",
    "\n",
    "top_states_styled = top_states_data2.style.format({ 'Mortality Rate': '{:.2%}'})\n",
    "top_states_styled"
   ]
  },
  {
   "cell_type": "code",
   "execution_count": 57,
   "metadata": {},
   "outputs": [
    {
     "data": {
      "text/plain": [
       "<matplotlib.axes._subplots.AxesSubplot at 0x19291a62e48>"
      ]
     },
     "execution_count": 57,
     "metadata": {},
     "output_type": "execute_result"
    },
    {
     "data": {
      "image/png": "[encoded data removed]",
      "text/plain": [
       "<Figure size 432x288 with 1 Axes>"
      ]
     },
     "metadata": {
      "needs_background": "light"
     },
     "output_type": "display_data"
    }
   ],
   "source": [
    "top_states_data2.boxplot(grid=False, rot=45, fontsize=15)"
   ]
  },
  {
   "cell_type": "code",
   "execution_count": 31,
   "metadata": {},
   "outputs": [
    {
     "data": {
      "image/png": "[encoded data removed]",
      "text/plain": [
       "<Figure size 432x288 with 1 Axes>"
      ]
     },
     "metadata": {
      "needs_background": "light"
     },
     "output_type": "display_data"
    }
   ],
   "source": [
    "top_states_data.plot.scatter(x='Deaths', \n",
    "                             y='Cases', \n",
    "                             s=top_states_data['Deaths'],\n",
    "                             xlim = (0,1500),\n",
    "                             ylim = (0,70000),\n",
    "                             \n",
    "                            );\n"
   ]
  },
  {
   "cell_type": "code",
   "execution_count": 32,
   "metadata": {},
   "outputs": [
    {
     "data": {
      "text/plain": [
       "<matplotlib.axes._subplots.AxesSubplot at 0x192914a9c88>"
      ]
     },
     "execution_count": 32,
     "metadata": {},
     "output_type": "execute_result"
    },
    {
     "data": {
      "image/png": "[encoded data removed]",
      "text/plain": [
       "<Figure size 432x288 with 1 Axes>"
      ]
     },
     "metadata": {
      "needs_background": "light"
     },
     "output_type": "display_data"
    }
   ],
   "source": [
    "\n",
    "# top_states_data[['Cases', 'Deaths']].plot(kind='bar', stacked=True)\n",
    "\n",
    "top_states_data.plot(kind='bar', x = 'State', y = 'Cases')\n",
    "\n"
   ]
  },
  {
   "cell_type": "code",
   "execution_count": null,
   "metadata": {},
   "outputs": [],
   "source": []
  },
  {
   "cell_type": "code",
   "execution_count": 90,
   "metadata": {},
   "outputs": [
    {
     "data": {
      "image/png": "[encoded data removed]",
      "text/plain": [
       "<Figure size 432x288 with 1 Axes>"
      ]
     },
     "metadata": {
      "needs_background": "light"
     },
     "output_type": "display_data"
    }
   ],
   "source": [
    "y_pos = np.arange(len(top_states_data['Cases']))\n",
    "tick_labels = top_states_data['State']\n",
    "\n",
    "top_states_data[['Cases', 'Deaths']].plot(kind='bar', stacked=True)\n",
    "\n",
    "# Create names\n",
    "plt.xticks(y_pos, tick_labels)\n",
    "\n",
    "plt.savefig('stacked_bar.png')\n"
   ]
  },
  {
   "cell_type": "code",
   "execution_count": null,
   "metadata": {},
   "outputs": [],
   "source": [
    "# cases = (20, 35, 30, 35, 27)\n",
    "# ind = np.arange(N) \n",
    "# width = 0.35       \n",
    "# plt.bar(ind, men_means, width, label='Men')\n",
    "# plt.bar(ind + width, women_means, width,\n",
    "#     label='Women')\n",
    "\n",
    "# plt.ylabel('Scores')\n",
    "# plt.title('Scores by group and gender')\n",
    "\n",
    "# plt.xticks(ind + width / 2, ('G1', 'G2', 'G3', 'G4', 'G5'))\n",
    "# plt.legend(loc='best')\n",
    "# plt.show()\n",
    "\n",
    "cases = top_states_data['Cases']\n",
    "deaths = top_states_data['Deaths']\n",
    "index = top_states_data['State']\n",
    "\n",
    "df = pd.DataFrame({'cases': cases,\n",
    "                  'deaths': deaths}, index=index)\n",
    "y_pos = np.arange(len(top_states_data['Cases']))\n",
    "tick_labels = top_states_data['State']\n",
    "\n",
    "ax = top_states_data.plot.bar(rot=0, subplots = True, figsize=(15,5))\n",
    "\n",
    "# Create names\n",
    "plt.xticks(y_pos, tick_labels)\n",
    "\n",
    "\n",
    "plt.savefig('subplot_bar.png')\n"
   ]
  },
  {
   "cell_type": "code",
   "execution_count": 91,
   "metadata": {},
   "outputs": [
    {
     "name": "stderr",
     "output_type": "stream",
     "text": [
      "C:\\Users\\positivelyalli\\Anaconda3\\lib\\site-packages\\ipykernel_launcher.py:3: SettingWithCopyWarning: \n",
      "A value is trying to be set on a copy of a slice from a DataFrame.\n",
      "Try using .loc[row_indexer,col_indexer] = value instead\n",
      "\n",
      "See the caveats in the documentation: http://pandas.pydata.org/pandas-docs/stable/user_guide/indexing.html#returning-a-view-versus-a-copy\n",
      "  This is separate from the ipykernel package so we can avoid doing imports until\n"
     ]
    },
    {
     "data": {
      "text/html": [
       "<div>\n",
       "<style scoped>\n",
       "    .dataframe tbody tr th:only-of-type {\n",
       "        vertical-align: middle;\n",
       "    }\n",
       "\n",
       "    .dataframe tbody tr th {\n",
       "        vertical-align: top;\n",
       "    }\n",
       "\n",
       "    .dataframe thead th {\n",
       "        text-align: right;\n",
       "    }\n",
       "</style>\n",
       "<table border=\"1\" class=\"dataframe\">\n",
       "  <thead>\n",
       "    <tr style=\"text-align: right;\">\n",
       "      <th></th>\n",
       "      <th>State</th>\n",
       "      <th>Cases</th>\n",
       "      <th>Deaths</th>\n",
       "      <th>Mortality Rate</th>\n",
       "    </tr>\n",
       "  </thead>\n",
       "  <tbody>\n",
       "    <tr>\n",
       "      <td>0</td>\n",
       "      <td>New York</td>\n",
       "      <td>59513</td>\n",
       "      <td>965</td>\n",
       "      <td>1.621494</td>\n",
       "    </tr>\n",
       "    <tr>\n",
       "      <td>1</td>\n",
       "      <td>New Jersey</td>\n",
       "      <td>13386</td>\n",
       "      <td>161</td>\n",
       "      <td>1.202749</td>\n",
       "    </tr>\n",
       "    <tr>\n",
       "      <td>2</td>\n",
       "      <td>California</td>\n",
       "      <td>5735</td>\n",
       "      <td>124</td>\n",
       "      <td>2.162162</td>\n",
       "    </tr>\n",
       "    <tr>\n",
       "      <td>3</td>\n",
       "      <td>Michigan</td>\n",
       "      <td>4635</td>\n",
       "      <td>112</td>\n",
       "      <td>2.416397</td>\n",
       "    </tr>\n",
       "    <tr>\n",
       "      <td>4</td>\n",
       "      <td>Washington</td>\n",
       "      <td>4319</td>\n",
       "      <td>191</td>\n",
       "      <td>4.422320</td>\n",
       "    </tr>\n",
       "    <tr>\n",
       "      <td>6</td>\n",
       "      <td>Florida</td>\n",
       "      <td>4238</td>\n",
       "      <td>55</td>\n",
       "      <td>1.297782</td>\n",
       "    </tr>\n",
       "  </tbody>\n",
       "</table>\n",
       "</div>"
      ],
      "text/plain": [
       "        State  Cases  Deaths  Mortality Rate\n",
       "0    New York  59513     965        1.621494\n",
       "1  New Jersey  13386     161        1.202749\n",
       "2  California   5735     124        2.162162\n",
       "3    Michigan   4635     112        2.416397\n",
       "4  Washington   4319     191        4.422320\n",
       "6     Florida   4238      55        1.297782"
      ]
     },
     "execution_count": 91,
     "metadata": {},
     "output_type": "execute_result"
    }
   ],
   "source": [
    "top_states_df = top_states_data[top_states_data['State'].isin(top_six)]\n",
    "\n",
    "top_states_df['Mortality Rate'] = top_states_df['Mortality Rate']*100\n",
    "\n",
    "top_states_df\n"
   ]
  },
  {
   "cell_type": "code",
   "execution_count": 92,
   "metadata": {},
   "outputs": [
    {
     "data": {
      "text/html": [
       "<div>\n",
       "<style scoped>\n",
       "    .dataframe tbody tr th:only-of-type {\n",
       "        vertical-align: middle;\n",
       "    }\n",
       "\n",
       "    .dataframe tbody tr th {\n",
       "        vertical-align: top;\n",
       "    }\n",
       "\n",
       "    .dataframe thead th {\n",
       "        text-align: right;\n",
       "    }\n",
       "</style>\n",
       "<table border=\"1\" class=\"dataframe\">\n",
       "  <thead>\n",
       "    <tr style=\"text-align: right;\">\n",
       "      <th></th>\n",
       "      <th>Name</th>\n",
       "      <th>Population</th>\n",
       "      <th>Percent_Seniors</th>\n",
       "    </tr>\n",
       "  </thead>\n",
       "  <tbody>\n",
       "    <tr>\n",
       "      <td>0</td>\n",
       "      <td>California</td>\n",
       "      <td>39557045.0</td>\n",
       "      <td>14.326998</td>\n",
       "    </tr>\n",
       "    <tr>\n",
       "      <td>1</td>\n",
       "      <td>Florida</td>\n",
       "      <td>21299325.0</td>\n",
       "      <td>20.464423</td>\n",
       "    </tr>\n",
       "    <tr>\n",
       "      <td>2</td>\n",
       "      <td>New York</td>\n",
       "      <td>19542209.0</td>\n",
       "      <td>16.436550</td>\n",
       "    </tr>\n",
       "    <tr>\n",
       "      <td>3</td>\n",
       "      <td>New Jersey</td>\n",
       "      <td>8908520.0</td>\n",
       "      <td>16.145095</td>\n",
       "    </tr>\n",
       "    <tr>\n",
       "      <td>4</td>\n",
       "      <td>Michigan</td>\n",
       "      <td>9995915.0</td>\n",
       "      <td>17.211561</td>\n",
       "    </tr>\n",
       "    <tr>\n",
       "      <td>5</td>\n",
       "      <td>Washington</td>\n",
       "      <td>7535591.0</td>\n",
       "      <td>15.446526</td>\n",
       "    </tr>\n",
       "  </tbody>\n",
       "</table>\n",
       "</div>"
      ],
      "text/plain": [
       "         Name  Population  Percent_Seniors\n",
       "0  California  39557045.0        14.326998\n",
       "1     Florida  21299325.0        20.464423\n",
       "2    New York  19542209.0        16.436550\n",
       "3  New Jersey   8908520.0        16.145095\n",
       "4    Michigan   9995915.0        17.211561\n",
       "5  Washington   7535591.0        15.446526"
      ]
     },
     "execution_count": 92,
     "metadata": {},
     "output_type": "execute_result"
    }
   ],
   "source": [
    "# read census data csv\n",
    "pop_df = pd.read_csv('out.csv')\n",
    "\n",
    "pop_df"
   ]
  },
  {
   "cell_type": "code",
   "execution_count": 93,
   "metadata": {},
   "outputs": [
    {
     "data": {
      "text/html": [
       "<div>\n",
       "<style scoped>\n",
       "    .dataframe tbody tr th:only-of-type {\n",
       "        vertical-align: middle;\n",
       "    }\n",
       "\n",
       "    .dataframe tbody tr th {\n",
       "        vertical-align: top;\n",
       "    }\n",
       "\n",
       "    .dataframe thead th {\n",
       "        text-align: right;\n",
       "    }\n",
       "</style>\n",
       "<table border=\"1\" class=\"dataframe\">\n",
       "  <thead>\n",
       "    <tr style=\"text-align: right;\">\n",
       "      <th></th>\n",
       "      <th>State</th>\n",
       "      <th>Cases</th>\n",
       "      <th>Deaths</th>\n",
       "      <th>Population</th>\n",
       "      <th>Mortality Rate</th>\n",
       "      <th>Percent_Seniors</th>\n",
       "    </tr>\n",
       "  </thead>\n",
       "  <tbody>\n",
       "    <tr>\n",
       "      <td>0</td>\n",
       "      <td>New York</td>\n",
       "      <td>59513</td>\n",
       "      <td>965</td>\n",
       "      <td>19542209.0</td>\n",
       "      <td>1.621494</td>\n",
       "      <td>16.436550</td>\n",
       "    </tr>\n",
       "    <tr>\n",
       "      <td>1</td>\n",
       "      <td>New Jersey</td>\n",
       "      <td>13386</td>\n",
       "      <td>161</td>\n",
       "      <td>8908520.0</td>\n",
       "      <td>1.202749</td>\n",
       "      <td>16.145095</td>\n",
       "    </tr>\n",
       "    <tr>\n",
       "      <td>2</td>\n",
       "      <td>California</td>\n",
       "      <td>5735</td>\n",
       "      <td>124</td>\n",
       "      <td>39557045.0</td>\n",
       "      <td>2.162162</td>\n",
       "      <td>14.326998</td>\n",
       "    </tr>\n",
       "    <tr>\n",
       "      <td>3</td>\n",
       "      <td>Michigan</td>\n",
       "      <td>4635</td>\n",
       "      <td>112</td>\n",
       "      <td>9995915.0</td>\n",
       "      <td>2.416397</td>\n",
       "      <td>17.211561</td>\n",
       "    </tr>\n",
       "    <tr>\n",
       "      <td>4</td>\n",
       "      <td>Washington</td>\n",
       "      <td>4319</td>\n",
       "      <td>191</td>\n",
       "      <td>7535591.0</td>\n",
       "      <td>4.422320</td>\n",
       "      <td>15.446526</td>\n",
       "    </tr>\n",
       "    <tr>\n",
       "      <td>5</td>\n",
       "      <td>Florida</td>\n",
       "      <td>4238</td>\n",
       "      <td>55</td>\n",
       "      <td>21299325.0</td>\n",
       "      <td>1.297782</td>\n",
       "      <td>20.464423</td>\n",
       "    </tr>\n",
       "  </tbody>\n",
       "</table>\n",
       "</div>"
      ],
      "text/plain": [
       "        State  Cases  Deaths  Population  Mortality Rate  Percent_Seniors\n",
       "0    New York  59513     965  19542209.0        1.621494        16.436550\n",
       "1  New Jersey  13386     161   8908520.0        1.202749        16.145095\n",
       "2  California   5735     124  39557045.0        2.162162        14.326998\n",
       "3    Michigan   4635     112   9995915.0        2.416397        17.211561\n",
       "4  Washington   4319     191   7535591.0        4.422320        15.446526\n",
       "5     Florida   4238      55  21299325.0        1.297782        20.464423"
      ]
     },
     "execution_count": 93,
     "metadata": {},
     "output_type": "execute_result"
    }
   ],
   "source": [
    "top_states_pop = pd.merge(top_states_df, pop_df, how='inner', left_on='State', right_on='Name')\n",
    "top_states_pop = top_states_pop[['State', 'Cases', 'Deaths', 'Population', 'Mortality Rate', 'Percent_Seniors']]\n",
    "top_states_pop"
   ]
  },
  {
   "cell_type": "code",
   "execution_count": 100,
   "metadata": {},
   "outputs": [
    {
     "data": {
      "image/png": "[encoded data removed]",
      "text/plain": [
       "<Figure size 432x288 with 1 Axes>"
      ]
     },
     "metadata": {
      "needs_background": "light"
     },
     "output_type": "display_data"
    }
   ],
   "source": [
    "y_pos = np.arange(len(top_states_pop['Mortality Rate']))\n",
    "tick_labels = top_states_pop['State']\n",
    "\n",
    "top_states_pop[['Percent_Seniors', 'Mortality Rate']].plot(kind='bar', stacked=True)\n",
    "\n",
    "# Create names\n",
    "plt.xticks(y_pos, tick_labels)\n",
    "\n",
    "plt.savefig('stacked_bar_pop.png')"
   ]
  },
  {
   "cell_type": "code",
   "execution_count": 101,
   "metadata": {},
   "outputs": [
    {
     "name": "stdout",
     "output_type": "stream",
     "text": [
      "R squard: 0.0324852417828121\n"
     ]
    },
    {
     "data": {
      "image/png": "[encoded data removed]",
      "text/plain": [
       "<Figure size 432x288 with 1 Axes>"
      ]
     },
     "metadata": {
      "needs_background": "light"
     },
     "output_type": "display_data"
    }
   ],
   "source": [
    "# look at the relationship between population and cases\n",
    "## Convert to floats and store max temp and latitude as x and y values\n",
    "x_values = top_states_pop['Cases'].astype('float')\n",
    "y_values = top_states_pop['Population'].astype('float')\n",
    "\n",
    "# Run linear regression\n",
    "(slope, intercept, rvalue, pvalue, stderr) = linregress(x_values, y_values)\n",
    "regress_values = x_values * slope + intercept\n",
    "line_eq = \"y = \" + str(round(slope,2)) + \"x + \" + str(round(intercept,2))\n",
    "\n",
    "# Plot scatter plot\n",
    "plt.scatter(x_values,y_values)\n",
    "\n",
    "# Plot regression line\n",
    "plt.plot(x_values,regress_values,\"r-\")\n",
    "plt.annotate(line_eq,(6,10),fontsize=15,color=\"red\")\n",
    "\n",
    "# Label plot\n",
    "plt.title('Population vs. COVID-19 Cases')\n",
    "plt.xlabel('Cases')\n",
    "plt.ylabel('Population')\n",
    "\n",
    "# Print r square value\n",
    "print(f\"R squard: {rvalue}\")\n",
    "\n",
    "#save plot\n",
    "plt.savefig('popvcases.png')"
   ]
  },
  {
   "cell_type": "code",
   "execution_count": 96,
   "metadata": {},
   "outputs": [
    {
     "name": "stdout",
     "output_type": "stream",
     "text": [
      "R squard: -0.42135921306838603\n"
     ]
    },
    {
     "data": {
      "image/png": "[encoded data removed]",
      "text/plain": [
       "<Figure size 432x288 with 1 Axes>"
      ]
     },
     "metadata": {
      "needs_background": "light"
     },
     "output_type": "display_data"
    }
   ],
   "source": [
    "# look at the relationship between population and deaths\n",
    "## Convert to floats and store max temp and latitude as x and y values\n",
    "x_values = top_states_pop['Mortality Rate'].astype('float')\n",
    "y_values = top_states_pop['Percent_Seniors'].astype('float')\n",
    "\n",
    "# Run linear regression\n",
    "(slope, intercept, rvalue, pvalue, stderr) = linregress(x_values, y_values)\n",
    "regress_values = x_values * slope + intercept\n",
    "line_eq = \"y = \" + str(round(slope,2)) + \"x + \" + str(round(intercept,2))\n",
    "\n",
    "# Plot scatter plot\n",
    "plt.scatter(x_values,y_values)\n",
    "\n",
    "# Plot regression line\n",
    "plt.plot(x_values,regress_values,\"r-\")\n",
    "plt.annotate(line_eq,(6,10),fontsize=15,color=\"red\")\n",
    "\n",
    "# Label plot\n",
    "plt.title('Mortality Rate vs. Percent_Seniors')\n",
    "plt.xlabel('Population')\n",
    "plt.ylabel('Cases')\n",
    "\n",
    "# Print r square value\n",
    "print(f\"R squard: {rvalue}\")\n",
    "\n",
    "#save plot\n",
    "plt.savefig('popvcases.png')"
   ]
  },
  {
   "cell_type": "code",
   "execution_count": 97,
   "metadata": {},
   "outputs": [
    {
     "name": "stdout",
     "output_type": "stream",
     "text": [
      "R squard: -0.15704884111330014\n"
     ]
    },
    {
     "data": {
      "image/png": "[encoded data removed]",
      "text/plain": [
       "<Figure size 432x288 with 1 Axes>"
      ]
     },
     "metadata": {
      "needs_background": "light"
     },
     "output_type": "display_data"
    }
   ],
   "source": [
    "# look at the relationship between population and deaths\n",
    "## Convert to floats and store max temp and latitude as x and y values\n",
    "x_values = top_states_pop['Deaths'].astype('float')\n",
    "y_values = top_states_pop['Percent_Seniors'].astype('float')\n",
    "\n",
    "# Run linear regression\n",
    "(slope, intercept, rvalue, pvalue, stderr) = linregress(x_values, y_values)\n",
    "regress_values = x_values * slope + intercept\n",
    "line_eq = \"y = \" + str(round(slope,2)) + \"x + \" + str(round(intercept,2))\n",
    "\n",
    "# Plot scatter plot\n",
    "plt.scatter(x_values,y_values)\n",
    "\n",
    "# Plot regression line\n",
    "plt.plot(x_values,regress_values,\"r-\")\n",
    "plt.annotate(line_eq,(6,10),fontsize=15,color=\"red\")\n",
    "\n",
    "# Label plot\n",
    "plt.title('Deaths vs. Percent_Seniors')\n",
    "plt.xlabel('Deaths')\n",
    "plt.ylabel('Percent_Seniors')\n",
    "\n",
    "# Print r square value\n",
    "print(f\"R squard: {rvalue}\")\n",
    "\n",
    "#save plot\n",
    "plt.savefig('popvcases.png')"
   ]
  },
  {
   "cell_type": "code",
   "execution_count": null,
   "metadata": {},
   "outputs": [],
   "source": []
  }
 ],
 "metadata": {
  "kernelspec": {
   "display_name": "Python 3",
   "language": "python",
   "name": "python3"
  },
  "language_info": {
   "codemirror_mode": {
    "name": "ipython",
    "version": 3
   },
   "file_extension": ".py",
   "mimetype": "text/x-python",
   "name": "python",
   "nbconvert_exporter": "python",
   "pygments_lexer": "ipython3",
   "version": "3.7.4"
  }
 },
 "nbformat": 4,
 "nbformat_minor": 2
}
