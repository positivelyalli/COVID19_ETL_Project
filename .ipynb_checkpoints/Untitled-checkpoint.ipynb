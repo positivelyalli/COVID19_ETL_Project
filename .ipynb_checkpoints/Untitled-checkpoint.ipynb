{
<<<<<<< HEAD
 "cells": [
  {
   "cell_type": "code",
   "execution_count": 1,
   "metadata": {},
   "outputs": [],
   "source": [
    "import pandas as pd\n",
    "import numpy as np\n",
    "import matplotlib.pyplot as plt\n",
    "import os\n",
    "from datetime import datetime\n",
    "import scipy.stats as st\n",
    "from scipy.optimize import curve_fit"
   ]
  },
  {
   "cell_type": "code",
   "execution_count": 2,
   "metadata": {},
   "outputs": [],
   "source": [
    "path = \"../../COVID-19/csse_covid_19_data/csse_covid_19_daily_reports/\""
   ]
  },
  {
   "cell_type": "code",
   "execution_count": 3,
   "metadata": {},
   "outputs": [],
   "source": [
    "df = []\n",
    "for filename in os.listdir(path):\n",
    "    if filename.endswith(\".csv\"):\n",
    "        x = pd.read_csv(path + filename)\n",
    "        df.append(x)"
   ]
  },
  {
   "cell_type": "code",
   "execution_count": 4,
   "metadata": {},
   "outputs": [],
   "source": [
    "def is_col(x, word):\n",
    "    cols = x.columns.tolist()\n",
    "    col = [i for i in cols if word in i]\n",
    "    return col[0]"
   ]
  },
  {
   "cell_type": "code",
   "execution_count": 5,
   "metadata": {},
   "outputs": [],
   "source": [
    "us = [a[a[is_col(a, 'Country')] == 'US'] for a in df]"
   ]
  },
  {
   "cell_type": "code",
   "execution_count": 6,
   "metadata": {},
   "outputs": [],
   "source": [
    "def split(x):\n",
    "    if ' ' in x:\n",
    "        date = x.split(' ')[0]\n",
    "    elif 'T' in x:\n",
    "        y = x.split('T')[0]\n",
    "    return y"
   ]
  },
  {
   "cell_type": "code",
   "execution_count": 7,
   "metadata": {},
   "outputs": [],
   "source": [
    "def split2(x):\n",
    "    if 'T' in x:\n",
    "        x = x.replace('T', ' ')\n",
    "        \n",
    "    if x.count(\":\") == 2:\n",
    "        x = \":\".join(x.split(\":\", 2)[:2])\n",
    "    \n",
    "    return x"
   ]
  },
  {
   "cell_type": "code",
   "execution_count": 8,
   "metadata": {},
   "outputs": [],
   "source": [
    "def fix(x):\n",
    "    x = split2(x)\n",
    "    if '/' in x:\n",
    "        if '2020' in x:\n",
    "            y = datetime.strptime(x, '%m/%d/%Y %H:%M')\n",
    "        else:\n",
    "            y = datetime.strptime(x, '%m/%d/%y %H:%M')\n",
    "    elif '-' in x:\n",
    "        if '2020' in x:\n",
    "            y = datetime.strptime(x, '%Y-%m-%d %H:%M')\n",
    "        else:\n",
    "            y = datetime.strptime(x, '%y-%m-%d %H:%M')\n",
    "    return y"
   ]
  },
  {
   "cell_type": "code",
   "execution_count": 45,
   "metadata": {},
   "outputs": [],
   "source": [
    "def clean(state, abb):\n",
    "    x = [a[(a[is_col(a, 'State')] == state) | (a[is_col(a, 'State')].str.contains(abb))] for a in df]\n",
    "    x1 = [a.rename(columns={is_col(a, 'State'): \"State\", \n",
    "                            is_col(a, 'Country'): \"Country\", \n",
    "                            is_col(a, 'Update'): 'Date'}) for a in x]\n",
    "    s = pd.concat(x1, sort=True)\n",
    "    s['Date'] = s['Date'].apply(fix)\n",
    "    s1 = s.drop_duplicates(['State', 'Date', 'Combined_Key', 'Confirmed'])\n",
    "    s1['Date'] = s1.Date.apply(lambda x: x.date())\n",
    "    s2 = s1.groupby('Date').sum()\n",
    "    s2 = s2.reset_index()\n",
    "    s2['Days'] = (s2['Date'] - datetime.strptime('01/22/2020', '%m/%d/%Y').date())\n",
    "    s2['Days'] = s2['Days'].dt.days\n",
    "    s3 = s2[['Date', 'Confirmed', 'Deaths', 'Days']]\n",
    "    return s3"
   ]
  },
  {
   "cell_type": "code",
   "execution_count": 137,
   "metadata": {},
   "outputs": [],
   "source": [
    "def plot(df):\n",
    "    a, b = curve_fit(lambda x,a,b: a*np.exp(b*x),  df['Days'],  df['Deaths'], p0=(4, 0.1))[0]\n",
    "    w_eq = \"y = \" + str(round(a,2)) + \"exp(\" + str(round(b,2)) + 'x)'\n",
    "    w_fig = df.plot.scatter('Days', 'Deaths')\n",
    "    w_fig.plot(df['Days'], a * np.exp(b * df['Days']), 'r')\n",
    "    w_fig.annotate(w_eq,(40, 20),fontsize=14,color=\"red\")\n",
    "    w_fig.annotate(\"Stay at Home Start\",(47, 80),fontsize=14,color=\"green\")\n",
    "    w_fig.vlines(62, 0, 100, 'g')\n",
    "    w_fig.set_title(\"Florida COVID-19 Deaths over Time\")\n",
    "    w_fig.set_xlabel(\"Days Since First US Case\")\n",
    "    w_fig.set_ylabel(\"Total number of Deaths\")\n",
    "    plt.savefig('deathFL.png')\n",
    "    return w_fig"
   ]
  },
  {
   "cell_type": "code",
   "execution_count": 140,
   "metadata": {},
   "outputs": [
    {
     "name": "stderr",
     "output_type": "stream",
     "text": [
      "/Users/sowmyasrinivasan/opt/anaconda3/lib/python3.7/site-packages/ipykernel_launcher.py:9: SettingWithCopyWarning: \n",
      "A value is trying to be set on a copy of a slice from a DataFrame.\n",
      "Try using .loc[row_indexer,col_indexer] = value instead\n",
      "\n",
      "See the caveats in the documentation: http://pandas.pydata.org/pandas-docs/stable/user_guide/indexing.html#returning-a-view-versus-a-copy\n",
      "  if __name__ == '__main__':\n"
     ]
    },
    {
     "data": {
      "text/plain": [
       "<matplotlib.axes._subplots.AxesSubplot at 0x1a2d915210>"
      ]
     },
     "execution_count": 140,
     "metadata": {},
     "output_type": "execute_result"
    },
    {
     "data": {
      "image/png": "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\n",
      "text/plain": [
       "<Figure size 432x288 with 1 Axes>"
      ]
     },
     "metadata": {
      "needs_background": "light"
     },
     "output_type": "display_data"
    }
   ],
   "source": [
    "washington = clean('Florida', 'FL')\n",
    "plot(washington)"
   ]
  },
  {
   "cell_type": "code",
   "execution_count": null,
   "metadata": {},
   "outputs": [],
   "source": []
  }
 ],
 "metadata": {
  "kernelspec": {
   "display_name": "Python 3",
   "language": "python",
   "name": "python3"
  },
  "language_info": {
   "codemirror_mode": {
    "name": "ipython",
    "version": 3
   },
   "file_extension": ".py",
   "mimetype": "text/x-python",
   "name": "python",
   "nbconvert_exporter": "python",
   "pygments_lexer": "ipython3",
   "version": "3.7.4"
  }
 },
=======
 "cells": [],
 "metadata": {},
>>>>>>> 13bc0c9318e91f0a25c216fae4248d6b9807f915
 "nbformat": 4,
 "nbformat_minor": 2
}
