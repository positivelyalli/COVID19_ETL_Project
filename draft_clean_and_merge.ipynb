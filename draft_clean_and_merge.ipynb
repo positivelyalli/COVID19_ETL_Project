{
 "cells": [
  {
   "cell_type": "code",
   "execution_count": 1,
   "metadata": {},
   "outputs": [],
   "source": [
    "import pandas as pd\n",
    "import numpy as np\n",
    "import datetime as dt\n",
    "\n",
    "from datetime import datetime\n",
    "from datetime import timedelta, date\n",
    "from IPython.display import display\n",
    "\n",
    "from ipywidgets import interact, interactive, fixed, interact_manual\n",
    "import ipywidgets as widgets\n"
   ]
  },
  {
   "cell_type": "code",
   "execution_count": 44,
   "metadata": {},
   "outputs": [
    {
     "name": "stdout",
     "output_type": "stream",
     "text": [
      "['01-22-2020.csv', '01-23-2020.csv', '01-24-2020.csv', '01-25-2020.csv', '01-26-2020.csv', '01-27-2020.csv', '01-28-2020.csv', '01-29-2020.csv', '01-30-2020.csv', '01-31-2020.csv', '02-01-2020.csv']\n",
      "['02-02-2020.csv', '02-03-2020.csv', '02-04-2020.csv', '02-05-2020.csv', '02-06-2020.csv', '02-07-2020.csv', '02-08-2020.csv', '02-09-2020.csv', '02-10-2020.csv', '02-11-2020.csv', '02-12-2020.csv', '02-13-2020.csv', '02-14-2020.csv', '02-15-2020.csv', '02-16-2020.csv', '02-17-2020.csv', '02-18-2020.csv', '02-19-2020.csv', '02-20-2020.csv', '02-21-2020.csv', '02-22-2020.csv', '02-23-2020.csv', '02-24-2020.csv', '02-25-2020.csv', '02-26-2020.csv', '02-27-2020.csv', '02-28-2020.csv', '02-29-2020.csv', '03-01-2020.csv', '03-02-2020.csv', '03-03-2020.csv', '03-04-2020.csv', '03-05-2020.csv', '03-06-2020.csv', '03-07-2020.csv', '03-08-2020.csv', '03-09-2020.csv', '03-10-2020.csv', '03-11-2020.csv', '03-12-2020.csv', '03-13-2020.csv', '03-14-2020.csv', '03-15-2020.csv', '03-16-2020.csv', '03-17-2020.csv', '03-18-2020.csv', '03-19-2020.csv', '03-20-2020.csv', '03-21-2020.csv']\n"
     ]
    },
    {
     "data": {
      "text/plain": [
       "['03-23-2020.csv',\n",
       " '03-24-2020.csv',\n",
       " '03-25-2020.csv',\n",
       " '03-26-2020.csv',\n",
       " '03-27-2020.csv',\n",
       " '03-28-2020.csv']"
      ]
     },
     "execution_count": 44,
     "metadata": {},
     "output_type": "execute_result"
    }
   ],
   "source": [
    "dates_list=[]\n",
    "dates_list_1=[]\n",
    "dates_list_2=[]\n",
    "# dt start='01-22-2020';\n",
    "# df finish='03-28-2020';\n",
    "\n",
    "def daterange(start_date, end_date):\n",
    "      for n in range(int ((end_date - start_date).days)):\n",
    "             yield start_date + timedelta(n)\n",
    "start_date = date(2020, 1, 22)\n",
    "end_date = date(2020, 2, 2)\n",
    "for single_date in daterange(start_date, end_date):\n",
    "    dates_list.append(single_date.strftime(\"%m-%d-%Y\")+'.csv')\n",
    "print(dates_list)\n",
    "start_date1 = date(2020, 2, 2)\n",
    "end_date1 = date(2020, 3, 22)\n",
    "for each_single_date in daterange(start_date1, end_date1):\n",
    "    dates_list_1.append(each_single_date.strftime(\"%m-%d-%Y\")+'.csv')\n",
    "print(dates_list_1)\n",
    "start_date2 = date(2020, 3, 23)\n",
    "end_date2 = date(2020, 3, 29)\n",
    "for each_s_date in daterange(start_date2, end_date2):\n",
    "    dates_list_2.append(each_s_date.strftime(\"%m-%d-%Y\")+'.csv')\n",
    "dates_list_2"
   ]
  },
  {
   "cell_type": "code",
   "execution_count": 45,
   "metadata": {},
   "outputs": [
    {
     "data": {
      "text/html": [
       "<div>\n",
       "<style scoped>\n",
       "    .dataframe tbody tr th:only-of-type {\n",
       "        vertical-align: middle;\n",
       "    }\n",
       "\n",
       "    .dataframe tbody tr th {\n",
       "        vertical-align: top;\n",
       "    }\n",
       "\n",
       "    .dataframe thead th {\n",
       "        text-align: right;\n",
       "    }\n",
       "</style>\n",
       "<table border=\"1\" class=\"dataframe\">\n",
       "  <thead>\n",
       "    <tr style=\"text-align: right;\">\n",
       "      <th></th>\n",
       "      <th>Confirmed</th>\n",
       "      <th>Country_Region</th>\n",
       "      <th>Deaths</th>\n",
       "      <th>Last_Update</th>\n",
       "      <th>Province_State</th>\n",
       "      <th>Recovered</th>\n",
       "    </tr>\n",
       "  </thead>\n",
       "  <tbody>\n",
       "    <tr>\n",
       "      <th>0</th>\n",
       "      <td>1.0</td>\n",
       "      <td>Mainland China</td>\n",
       "      <td>NaN</td>\n",
       "      <td>1/22/2020 17:00</td>\n",
       "      <td>Anhui</td>\n",
       "      <td>NaN</td>\n",
       "    </tr>\n",
       "    <tr>\n",
       "      <th>1</th>\n",
       "      <td>14.0</td>\n",
       "      <td>Mainland China</td>\n",
       "      <td>NaN</td>\n",
       "      <td>1/22/2020 17:00</td>\n",
       "      <td>Beijing</td>\n",
       "      <td>NaN</td>\n",
       "    </tr>\n",
       "    <tr>\n",
       "      <th>2</th>\n",
       "      <td>6.0</td>\n",
       "      <td>Mainland China</td>\n",
       "      <td>NaN</td>\n",
       "      <td>1/22/2020 17:00</td>\n",
       "      <td>Chongqing</td>\n",
       "      <td>NaN</td>\n",
       "    </tr>\n",
       "    <tr>\n",
       "      <th>3</th>\n",
       "      <td>1.0</td>\n",
       "      <td>Mainland China</td>\n",
       "      <td>NaN</td>\n",
       "      <td>1/22/2020 17:00</td>\n",
       "      <td>Fujian</td>\n",
       "      <td>NaN</td>\n",
       "    </tr>\n",
       "    <tr>\n",
       "      <th>4</th>\n",
       "      <td>NaN</td>\n",
       "      <td>Mainland China</td>\n",
       "      <td>NaN</td>\n",
       "      <td>1/22/2020 17:00</td>\n",
       "      <td>Gansu</td>\n",
       "      <td>NaN</td>\n",
       "    </tr>\n",
       "    <tr>\n",
       "      <th>...</th>\n",
       "      <td>...</td>\n",
       "      <td>...</td>\n",
       "      <td>...</td>\n",
       "      <td>...</td>\n",
       "      <td>...</td>\n",
       "      <td>...</td>\n",
       "    </tr>\n",
       "    <tr>\n",
       "      <th>62</th>\n",
       "      <td>1.0</td>\n",
       "      <td>US</td>\n",
       "      <td>0.0</td>\n",
       "      <td>2/1/2020 19:53</td>\n",
       "      <td>Los Angeles, CA</td>\n",
       "      <td>0.0</td>\n",
       "    </tr>\n",
       "    <tr>\n",
       "      <th>63</th>\n",
       "      <td>1.0</td>\n",
       "      <td>US</td>\n",
       "      <td>0.0</td>\n",
       "      <td>2/1/2020 19:53</td>\n",
       "      <td>Orange, CA</td>\n",
       "      <td>0.0</td>\n",
       "    </tr>\n",
       "    <tr>\n",
       "      <th>64</th>\n",
       "      <td>1.0</td>\n",
       "      <td>US</td>\n",
       "      <td>0.0</td>\n",
       "      <td>2/1/2020 19:53</td>\n",
       "      <td>Santa Clara, CA</td>\n",
       "      <td>0.0</td>\n",
       "    </tr>\n",
       "    <tr>\n",
       "      <th>65</th>\n",
       "      <td>1.0</td>\n",
       "      <td>US</td>\n",
       "      <td>0.0</td>\n",
       "      <td>2/1/2020 19:43</td>\n",
       "      <td>Seattle, WA</td>\n",
       "      <td>0.0</td>\n",
       "    </tr>\n",
       "    <tr>\n",
       "      <th>66</th>\n",
       "      <td>1.0</td>\n",
       "      <td>US</td>\n",
       "      <td>0.0</td>\n",
       "      <td>2/1/2020 19:43</td>\n",
       "      <td>Tempe, AZ</td>\n",
       "      <td>0.0</td>\n",
       "    </tr>\n",
       "  </tbody>\n",
       "</table>\n",
       "<p>560 rows × 6 columns</p>\n",
       "</div>"
      ],
      "text/plain": [
       "    Confirmed  Country_Region  Deaths      Last_Update   Province_State  \\\n",
       "0         1.0  Mainland China     NaN  1/22/2020 17:00            Anhui   \n",
       "1        14.0  Mainland China     NaN  1/22/2020 17:00          Beijing   \n",
       "2         6.0  Mainland China     NaN  1/22/2020 17:00        Chongqing   \n",
       "3         1.0  Mainland China     NaN  1/22/2020 17:00           Fujian   \n",
       "4         NaN  Mainland China     NaN  1/22/2020 17:00            Gansu   \n",
       "..        ...             ...     ...              ...              ...   \n",
       "62        1.0              US     0.0   2/1/2020 19:53  Los Angeles, CA   \n",
       "63        1.0              US     0.0   2/1/2020 19:53       Orange, CA   \n",
       "64        1.0              US     0.0   2/1/2020 19:53  Santa Clara, CA   \n",
       "65        1.0              US     0.0   2/1/2020 19:43      Seattle, WA   \n",
       "66        1.0              US     0.0   2/1/2020 19:43        Tempe, AZ   \n",
       "\n",
       "    Recovered  \n",
       "0         NaN  \n",
       "1         NaN  \n",
       "2         NaN  \n",
       "3         NaN  \n",
       "4         NaN  \n",
       "..        ...  \n",
       "62        0.0  \n",
       "63        0.0  \n",
       "64        0.0  \n",
       "65        0.0  \n",
       "66        0.0  \n",
       "\n",
       "[560 rows x 6 columns]"
      ]
     },
     "execution_count": 45,
     "metadata": {},
     "output_type": "execute_result"
    }
   ],
   "source": [
    "init_path='csse_covid_19_daily_reports/'+dates_list[0]\n",
    "init_date_df=pd.read_csv(init_path)\n",
    "for each_date in dates_list[1:]:\n",
    "    loop_date_path='csse_covid_19_daily_reports/'+each_date\n",
    "    new_date_df=pd.read_csv(loop_date_path)\n",
    "    init_date_df=pd.concat([init_date_df, new_date_df], axis=0, sort=True)\n",
    "\n",
    "covid_start_df=init_date_df.rename(columns={\"Country/Region\":\"Country_Region\",\"Last Update\":\"Last_Update\",\"Latitude\":\"Lat\",\"Longitude\":\"Long_\",\"Province/State\":\"Province_State\"})\n",
    "covid_start_df\n"
   ]
  },
  {
   "cell_type": "code",
   "execution_count": 73,
   "metadata": {},
   "outputs": [],
   "source": [
    "def func(x):\n",
    "    if x[4] == '-':\n",
    "        y = datetime.strptime(x, '%Y-%m-%d').date()\n",
    "    else:\n",
    "        y = datetime.strptime(x, '%m/%d/%Y').date()\n",
    "    return y"
   ]
  },
  {
   "cell_type": "code",
   "execution_count": 69,
   "metadata": {},
   "outputs": [
    {
     "data": {
      "text/plain": [
       "datetime.date(2020, 1, 22)"
      ]
     },
     "execution_count": 69,
     "metadata": {},
     "output_type": "execute_result"
    }
   ],
   "source": [
    "x = covid_start_df[\"Last_Update\"].tolist()[0][:-6]\n",
    "y = covid_start_df[\"Last_Update\"].tolist()[1][:-6]\n",
    "x1 = datetime.strptime(x, '%m/%d/%Y').date()\n",
    "y1 = datetime.strptime(y, '%m/%d/%Y').date()\n"
   ]
  },
  {
   "cell_type": "code",
   "execution_count": 48,
   "metadata": {
    "scrolled": true
   },
   "outputs": [
    {
     "data": {
      "text/plain": [
       "0     1/22/2020\n",
       "1     1/22/2020\n",
       "2     1/22/2020\n",
       "3     1/22/2020\n",
       "4     1/22/2020\n",
       "        ...    \n",
       "62    2/1/2020 \n",
       "63    2/1/2020 \n",
       "64    2/1/2020 \n",
       "65    2/1/2020 \n",
       "66    2/1/2020 \n",
       "Name: Last_Update, Length: 560, dtype: object"
      ]
     },
     "execution_count": 48,
     "metadata": {},
     "output_type": "execute_result"
    }
   ],
   "source": [
    "covid_start_df[\"Last_Update\"].str.slice(stop=9)\n",
    "# covid_start_df['date']=covid_start_df[\"Last_Update\"].str.slice(stop=7)\n",
    "# covid_start_df\n"
   ]
  },
  {
   "cell_type": "code",
   "execution_count": 16,
   "metadata": {},
   "outputs": [
    {
     "data": {
      "text/plain": [
       "0      2020-02-02\n",
       "1      2020-02-02\n",
       "2      2020-02-02\n",
       "3      2020-02-02\n",
       "4      2020-02-02\n",
       "          ...    \n",
       "299    2020-03-17\n",
       "300    2020-03-17\n",
       "301    2020-03-17\n",
       "302    2020-03-19\n",
       "303    2020-03-18\n",
       "Name: Last_Update, Length: 7057, dtype: object"
      ]
     },
     "execution_count": 16,
     "metadata": {},
     "output_type": "execute_result"
    }
   ],
   "source": [
    "init_path_1='csse_covid_19_daily_reports/'+dates_list_1[0]\n",
    "init_date_df_1=pd.read_csv(init_path_1)\n",
    "for each_date in dates_list_1[1:]:\n",
    "    loop_date_path_1='csse_covid_19_daily_reports/'+each_date\n",
    "    new_date_df_1=pd.read_csv(loop_date_path_1)\n",
    "    init_date_df_1=pd.concat([init_date_df_1, new_date_df_1], axis=0, sort=True)\n",
    "covid_2_df=init_date_df_1.rename(columns={\"Country/Region\":\"Country_Region\",\"Last Update\":\"Last_Update\",\"Latitude\":\"Lat\",\"Longitude\":\"Long_\",\"Province/State\":\"Province_State\"})\n",
    "\n",
    "covid_2_df[\"Last_Update\"].str.slice(stop=10)\n",
    "\n",
    "\n",
    "\n",
    "# for each_date in :\n",
    "#     each_date.strftime(\"%m/%d/%Y, %H:%M:%S\")\n",
    "\n",
    "# date_time.strftime(\"%m/%d/%Y)\n",
    "# covid_2_df['date']=\n",
    "                                       "
   ]
  },
  {
   "cell_type": "code",
   "execution_count": 72,
   "metadata": {},
   "outputs": [
    {
     "data": {
      "text/plain": [
       "'-'"
      ]
     },
     "execution_count": 72,
     "metadata": {},
     "output_type": "execute_result"
    }
   ],
   "source": [
    "z = covid_2_df['Last_Update'].tolist()[0][:-9]\n",
    "datetime.strptime(z, '%Y-%m-%d').date()\n",
    "z"
   ]
  },
  {
   "cell_type": "code",
   "execution_count": 17,
   "metadata": {},
   "outputs": [],
   "source": [
    "# covid_2_df['date']=pd.to_dateime(covid_2_df['Last_Update'], format='%m/%d/%Y')\n"
   ]
  },
  {
   "cell_type": "code",
   "execution_count": 37,
   "metadata": {},
   "outputs": [
    {
     "data": {
      "text/plain": [
       "0       3/22/20 20\n",
       "1       3/22/20 20\n",
       "2       3/22/20 20\n",
       "3       3/22/20 20\n",
       "4       3/22/20 20\n",
       "           ...    \n",
       "3412    3/22/20 20\n",
       "3413    3/22/20 20\n",
       "3414    3/22/20 20\n",
       "3415    3/22/20 20\n",
       "3416    3/22/20 20\n",
       "Name: date, Length: 3417, dtype: object"
      ]
     },
     "execution_count": 37,
     "metadata": {},
     "output_type": "execute_result"
    }
   ],
   "source": [
    "single_df=pd.read_csv('csse_covid_19_daily_reports/03-22-2020.csv')\n",
    "single_df.drop(['Active','Admin2','Combined_Key','FIPS'], axis=1)\n",
    "single_df['date']=single_df[\"Last_Update\"].str.slice(stop=8) + '20'\n",
    "single_df['date']"
   ]
  },
  {
   "cell_type": "code",
   "execution_count": 22,
   "metadata": {
    "scrolled": true
   },
   "outputs": [
    {
     "data": {
      "text/html": [
       "<div>\n",
       "<style scoped>\n",
       "    .dataframe tbody tr th:only-of-type {\n",
       "        vertical-align: middle;\n",
       "    }\n",
       "\n",
       "    .dataframe tbody tr th {\n",
       "        vertical-align: top;\n",
       "    }\n",
       "\n",
       "    .dataframe thead th {\n",
       "        text-align: right;\n",
       "    }\n",
       "</style>\n",
       "<table border=\"1\" class=\"dataframe\">\n",
       "  <thead>\n",
       "    <tr style=\"text-align: right;\">\n",
       "      <th></th>\n",
       "      <th>Confirmed</th>\n",
       "      <th>Country_Region</th>\n",
       "      <th>Deaths</th>\n",
       "      <th>Last_Update</th>\n",
       "      <th>Lat</th>\n",
       "      <th>Long_</th>\n",
       "      <th>Province_State</th>\n",
       "      <th>Recovered</th>\n",
       "    </tr>\n",
       "  </thead>\n",
       "  <tbody>\n",
       "    <tr>\n",
       "      <th>0</th>\n",
       "      <td>1</td>\n",
       "      <td>US</td>\n",
       "      <td>0</td>\n",
       "      <td>2020-03-23 23:19:34</td>\n",
       "      <td>34.223334</td>\n",
       "      <td>-82.461707</td>\n",
       "      <td>South Carolina</td>\n",
       "      <td>0</td>\n",
       "    </tr>\n",
       "    <tr>\n",
       "      <th>1</th>\n",
       "      <td>1</td>\n",
       "      <td>US</td>\n",
       "      <td>0</td>\n",
       "      <td>2020-03-23 23:19:34</td>\n",
       "      <td>30.295065</td>\n",
       "      <td>-92.414197</td>\n",
       "      <td>Louisiana</td>\n",
       "      <td>0</td>\n",
       "    </tr>\n",
       "    <tr>\n",
       "      <th>2</th>\n",
       "      <td>1</td>\n",
       "      <td>US</td>\n",
       "      <td>0</td>\n",
       "      <td>2020-03-23 23:19:34</td>\n",
       "      <td>37.767072</td>\n",
       "      <td>-75.632346</td>\n",
       "      <td>Virginia</td>\n",
       "      <td>0</td>\n",
       "    </tr>\n",
       "    <tr>\n",
       "      <th>3</th>\n",
       "      <td>13</td>\n",
       "      <td>US</td>\n",
       "      <td>0</td>\n",
       "      <td>2020-03-23 23:19:34</td>\n",
       "      <td>43.452658</td>\n",
       "      <td>-116.241552</td>\n",
       "      <td>Idaho</td>\n",
       "      <td>0</td>\n",
       "    </tr>\n",
       "    <tr>\n",
       "      <th>4</th>\n",
       "      <td>1</td>\n",
       "      <td>US</td>\n",
       "      <td>0</td>\n",
       "      <td>2020-03-23 23:19:34</td>\n",
       "      <td>41.330756</td>\n",
       "      <td>-94.471059</td>\n",
       "      <td>Iowa</td>\n",
       "      <td>0</td>\n",
       "    </tr>\n",
       "    <tr>\n",
       "      <th>...</th>\n",
       "      <td>...</td>\n",
       "      <td>...</td>\n",
       "      <td>...</td>\n",
       "      <td>...</td>\n",
       "      <td>...</td>\n",
       "      <td>...</td>\n",
       "      <td>...</td>\n",
       "      <td>...</td>\n",
       "    </tr>\n",
       "    <tr>\n",
       "      <th>3425</th>\n",
       "      <td>119</td>\n",
       "      <td>Venezuela</td>\n",
       "      <td>2</td>\n",
       "      <td>2020-03-28 23:05:25</td>\n",
       "      <td>6.423800</td>\n",
       "      <td>-66.589700</td>\n",
       "      <td>NaN</td>\n",
       "      <td>39</td>\n",
       "    </tr>\n",
       "    <tr>\n",
       "      <th>3426</th>\n",
       "      <td>174</td>\n",
       "      <td>Vietnam</td>\n",
       "      <td>0</td>\n",
       "      <td>2020-03-28 23:05:25</td>\n",
       "      <td>14.058324</td>\n",
       "      <td>108.277199</td>\n",
       "      <td>NaN</td>\n",
       "      <td>21</td>\n",
       "    </tr>\n",
       "    <tr>\n",
       "      <th>3427</th>\n",
       "      <td>98</td>\n",
       "      <td>West Bank and Gaza</td>\n",
       "      <td>1</td>\n",
       "      <td>2020-03-28 23:05:25</td>\n",
       "      <td>31.952200</td>\n",
       "      <td>35.233200</td>\n",
       "      <td>NaN</td>\n",
       "      <td>18</td>\n",
       "    </tr>\n",
       "    <tr>\n",
       "      <th>3428</th>\n",
       "      <td>28</td>\n",
       "      <td>Zambia</td>\n",
       "      <td>0</td>\n",
       "      <td>2020-03-28 23:05:25</td>\n",
       "      <td>-13.133897</td>\n",
       "      <td>27.849332</td>\n",
       "      <td>NaN</td>\n",
       "      <td>0</td>\n",
       "    </tr>\n",
       "    <tr>\n",
       "      <th>3429</th>\n",
       "      <td>7</td>\n",
       "      <td>Zimbabwe</td>\n",
       "      <td>1</td>\n",
       "      <td>2020-03-28 23:05:25</td>\n",
       "      <td>-19.015438</td>\n",
       "      <td>29.154857</td>\n",
       "      <td>NaN</td>\n",
       "      <td>0</td>\n",
       "    </tr>\n",
       "  </tbody>\n",
       "</table>\n",
       "<p>20532 rows × 8 columns</p>\n",
       "</div>"
      ],
      "text/plain": [
       "      Confirmed      Country_Region  Deaths          Last_Update        Lat  \\\n",
       "0             1                  US       0  2020-03-23 23:19:34  34.223334   \n",
       "1             1                  US       0  2020-03-23 23:19:34  30.295065   \n",
       "2             1                  US       0  2020-03-23 23:19:34  37.767072   \n",
       "3            13                  US       0  2020-03-23 23:19:34  43.452658   \n",
       "4             1                  US       0  2020-03-23 23:19:34  41.330756   \n",
       "...         ...                 ...     ...                  ...        ...   \n",
       "3425        119           Venezuela       2  2020-03-28 23:05:25   6.423800   \n",
       "3426        174             Vietnam       0  2020-03-28 23:05:25  14.058324   \n",
       "3427         98  West Bank and Gaza       1  2020-03-28 23:05:25  31.952200   \n",
       "3428         28              Zambia       0  2020-03-28 23:05:25 -13.133897   \n",
       "3429          7            Zimbabwe       1  2020-03-28 23:05:25 -19.015438   \n",
       "\n",
       "           Long_  Province_State  Recovered  \n",
       "0     -82.461707  South Carolina          0  \n",
       "1     -92.414197       Louisiana          0  \n",
       "2     -75.632346        Virginia          0  \n",
       "3    -116.241552           Idaho          0  \n",
       "4     -94.471059            Iowa          0  \n",
       "...          ...             ...        ...  \n",
       "3425  -66.589700             NaN         39  \n",
       "3426  108.277199             NaN         21  \n",
       "3427   35.233200             NaN         18  \n",
       "3428   27.849332             NaN          0  \n",
       "3429   29.154857             NaN          0  \n",
       "\n",
       "[20532 rows x 8 columns]"
      ]
     },
     "execution_count": 22,
     "metadata": {},
     "output_type": "execute_result"
    }
   ],
   "source": [
    "init_path_2='csse_covid_19_daily_reports/'+dates_list_2[0]\n",
    "init_date_df_2=pd.read_csv(init_path_2)\n",
    "for each_date in dates_list_2[1:]:\n",
    "    loop_date_path_2='csse_covid_19_daily_reports/'+each_date\n",
    "    new_date_df_2=pd.read_csv(loop_date_path_2)\n",
    "    init_date_df_2=pd.concat([init_date_df_2, new_date_df_2], axis=0, sort=True)\n",
    "init_date_df_2\n",
    "covid_3_df=init_date_df_2.drop(['Active','Admin2','Combined_Key','FIPS'], axis=1)\n",
    "covid_3_df\n",
    "\n"
   ]
  },
  {
   "cell_type": "code",
   "execution_count": 35,
   "metadata": {},
   "outputs": [
    {
     "data": {
      "text/plain": [
       "0       2020-03-23\n",
       "1       2020-03-23\n",
       "2       2020-03-23\n",
       "3       2020-03-23\n",
       "4       2020-03-23\n",
       "           ...    \n",
       "3425    2020-03-28\n",
       "3426    2020-03-28\n",
       "3427    2020-03-28\n",
       "3428    2020-03-28\n",
       "3429    2020-03-28\n",
       "Name: Last_Update, Length: 20532, dtype: object"
      ]
     },
     "execution_count": 35,
     "metadata": {},
     "output_type": "execute_result"
    }
   ],
   "source": [
    "covid_3_df[\"Last_Update\"].str.slice(stop=10)\n",
    "# covid_3_df['date']=covid_3_df[\"Last_Update\"].str.slice(stop=9)\n",
    "# covid_3_df"
   ]
  },
  {
   "cell_type": "code",
   "execution_count": null,
   "metadata": {},
   "outputs": [],
   "source": [
    "# covid_start_df['Last_Update'].str.slice(start=)\n",
    "# covid_start_df['Last_Update']=pd.to_datetime(covid_start_df.Last_Update, format='%m/%d/%Y')\n",
    "covid_start_df['date']=covid_start_df['Last_Update'].dt.normailize()\n",
    "# to_datetime().date() for de in df\n",
    "# t_each_d.strftime(\"%m/%d/%Y)\n",
    "covid_start_df['date']=pd.to_datetime(covid_start_df['Date'], errors='coerce')\n",
    "covid_start_df['date']\n"
   ]
  },
  {
   "cell_type": "code",
   "execution_count": null,
   "metadata": {},
   "outputs": [],
   "source": []
  }
 ],
 "metadata": {
  "kernelspec": {
   "display_name": "Python 3",
   "language": "python",
   "name": "python3"
  },
  "language_info": {
   "codemirror_mode": {
    "name": "ipython",
    "version": 3
   },
   "file_extension": ".py",
   "mimetype": "text/x-python",
   "name": "python",
   "nbconvert_exporter": "python",
   "pygments_lexer": "ipython3",
   "version": "3.7.5"
  }
 },
 "nbformat": 4,
 "nbformat_minor": 2
}
